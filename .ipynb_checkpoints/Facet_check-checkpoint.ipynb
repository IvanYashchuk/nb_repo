{
 "cells": [
  {
   "cell_type": "code",
   "execution_count": 1,
   "metadata": {},
   "outputs": [
    {
     "name": "stdout",
     "output_type": "stream",
     "text": [
      "/home/fenics/shared/trash\r\n"
     ]
    }
   ],
   "source": [
    "from IPython.display import HTML\n",
    "from dolfin import *\n",
    "#import dijitso\n",
    "#dijitso.set_log_level('debug')\n",
    "import numpy\n",
    "parameters[\"form_compiler\"][\"representation\"] = \"uflacs\"\n",
    "import matplotlib.pyplot as plt\n",
    "%matplotlib inline\n",
    "!cd ~/.cache/fenics && rm -r dijitso && cd -\n",
    "#HTML(X3DOM().html(u))"
   ]
  },
  {
   "cell_type": "markdown",
   "metadata": {},
   "source": [
    "`tabulate_facet` check for hex:"
   ]
  },
  {
   "cell_type": "code",
   "execution_count": 23,
   "metadata": {},
   "outputs": [
    {
     "name": "stdout",
     "output_type": "stream",
     "text": [
      "facet_local_index 0\n",
      "Mesh facet: [0 2 4 6]\n",
      "Dofmap facet: [0 2 4 6]\n",
      "\n",
      "\n",
      "facet_local_index 1\n",
      "Mesh facet: [1 3 5 7]\n",
      "Dofmap facet: [1 3 5 7]\n",
      "\n",
      "\n",
      "facet_local_index 2\n",
      "Mesh facet: [0 1 4 5]\n",
      "Dofmap facet: [0 1 4 5]\n",
      "\n",
      "\n",
      "facet_local_index 3\n",
      "Mesh facet: [2 3 6 7]\n",
      "Dofmap facet: [2 3 6 7]\n",
      "\n",
      "\n",
      "facet_local_index 4\n",
      "Mesh facet: [0 1 2 3]\n",
      "Dofmap facet: [0 1 2 3]\n",
      "\n",
      "\n",
      "facet_local_index 5\n",
      "Mesh facet: [4 5 6 7]\n",
      "Dofmap facet: [4 5 6 7]\n",
      "\n",
      "\n"
     ]
    }
   ],
   "source": [
    "mesh = UnitHexMesh(mpi_comm_world(), 1, 1, 1)\n",
    "#mesh = UnitTriangleMesh()\n",
    "#mesh = UnitTetrahedronMesh()\n",
    "\n",
    "cell = Cell(mesh, 0)\n",
    "\n",
    "V = FunctionSpace(mesh, \"Lagrange\", 1)\n",
    "element = V.element()\n",
    "dofmap = V.dofmap()\n",
    "\n",
    "# Check that for single cell mesh `mesh_facet` == `dofmap_facet`\n",
    "for facet in facets(cell):\n",
    "    print(\"facet_local_index %s\" % cell.index(facet))\n",
    "    print(\"Mesh facet: %s\" % facet.entities(0))\n",
    "    print(\"Dofmap facet: %s\" % dofmap.tabulate_facet_dofs(cell.index(facet)))\n",
    "    print(\"\\n\")"
   ]
  },
  {
   "cell_type": "markdown",
   "metadata": {},
   "source": [
    "`tabulate_facet` check for quad:"
   ]
  },
  {
   "cell_type": "code",
   "execution_count": 24,
   "metadata": {},
   "outputs": [
    {
     "name": "stdout",
     "output_type": "stream",
     "text": [
      "Calling FFC just-in-time (JIT) compiler, this may take some time.\n",
      "facet_local_index 0\n",
      "Mesh facet: [0 2]\n",
      "Dofmap facet: [0 2]\n",
      "\n",
      "\n",
      "facet_local_index 1\n",
      "Mesh facet: [1 3]\n",
      "Dofmap facet: [1 3]\n",
      "\n",
      "\n",
      "facet_local_index 2\n",
      "Mesh facet: [0 1]\n",
      "Dofmap facet: [0 1]\n",
      "\n",
      "\n",
      "facet_local_index 3\n",
      "Mesh facet: [2 3]\n",
      "Dofmap facet: [2 3]\n",
      "\n",
      "\n"
     ]
    }
   ],
   "source": [
    "mesh = UnitQuadMesh(mpi_comm_world(), 1, 1)\n",
    "#mesh = UnitTriangleMesh()\n",
    "#mesh = UnitTetrahedronMesh()\n",
    "\n",
    "cell = Cell(mesh, 0)\n",
    "\n",
    "V = FunctionSpace(mesh, \"Lagrange\", 1)\n",
    "element = V.element()\n",
    "dofmap = V.dofmap()\n",
    "\n",
    "# Check that for single cell mesh `mesh_facet` == `dofmap_facet`\n",
    "for facet in facets(cell):\n",
    "    print(\"facet_local_index %s\" % cell.index(facet))\n",
    "    print(\"Mesh facet: %s\" % facet.entities(0))\n",
    "    print(\"Dofmap facet: %s\" % dofmap.tabulate_facet_dofs(cell.index(facet)))\n",
    "    print(\"\\n\")"
   ]
  },
  {
   "cell_type": "markdown",
   "metadata": {},
   "source": [
    "Check that mesh facet and dofmap facet point to the same physical coordinate:"
   ]
  },
  {
   "cell_type": "code",
   "execution_count": 25,
   "metadata": {},
   "outputs": [
    {
     "name": "stdout",
     "output_type": "stream",
     "text": [
      "Cell 0:\n",
      "[True, True, True, True]\n",
      "[True, True, True, True]\n",
      "[True, True, True, True]\n",
      "[True, True, True, True]\n",
      "[True, True, True, True]\n",
      "[True, True, True, True]\n",
      "Cell 1:\n",
      "[True, True, True, True]\n",
      "[True, True, True, True]\n",
      "[True, True, True, True]\n",
      "[True, True, True, True]\n",
      "[True, True, True, True]\n",
      "[True, True, True, True]\n",
      "Cell 2:\n",
      "[True, True, True, True]\n",
      "[True, True, True, True]\n",
      "[True, True, True, True]\n",
      "[True, True, True, True]\n",
      "[True, True, True, True]\n",
      "[True, True, True, True]\n",
      "Cell 3:\n",
      "[True, True, True, True]\n",
      "[True, True, True, True]\n",
      "[True, True, True, True]\n",
      "[True, True, True, True]\n",
      "[True, True, True, True]\n",
      "[True, True, True, True]\n"
     ]
    }
   ],
   "source": [
    "mesh = UnitHexMesh(mpi_comm_world(), 1, 2, 2)\n",
    "\n",
    "V = FunctionSpace(mesh, \"Lagrange\", 1)\n",
    "element = V.element()\n",
    "dofmap = V.dofmap()\n",
    "\n",
    "for cell in cells(mesh):\n",
    "    cell_dofs = dofmap.cell_dofs(cell.index())\n",
    "    coord = mesh.coordinates()\n",
    "    d2v = dof_to_vertex_map(V)\n",
    "    print(\"Cell %s:\" % cell.index())\n",
    "    for facet in facets(cell):\n",
    "        mesh_facet = facet.entities(0)\n",
    "        dofmap_facet = dofmap.tabulate_facet_dofs(cell.index(facet))\n",
    "        print([all(coord[mesh_facet[i]] == coord[d2v[cell_dofs[dofmap_facet[i]]]]) for i in range(dofmap.num_facet_dofs())])"
   ]
  },
  {
   "cell_type": "code",
   "execution_count": 26,
   "metadata": {},
   "outputs": [
    {
     "data": {
      "text/plain": [
       "array([[ 0. ,  0.5,  0.5],\n",
       "       [ 1. ,  0.5,  0.5],\n",
       "       [ 0. ,  1. ,  0.5],\n",
       "       [ 1. ,  1. ,  0.5],\n",
       "       [ 0. ,  0.5,  1. ],\n",
       "       [ 1. ,  0.5,  1. ],\n",
       "       [ 0. ,  1. ,  1. ],\n",
       "       [ 1. ,  1. ,  1. ]])"
      ]
     },
     "execution_count": 26,
     "metadata": {},
     "output_type": "execute_result"
    }
   ],
   "source": [
    "mesh.coordinates()[d2v[dofmap.cell_dofs(cell.index())]]"
   ]
  },
  {
   "cell_type": "code",
   "execution_count": 27,
   "metadata": {},
   "outputs": [
    {
     "name": "stdout",
     "output_type": "stream",
     "text": [
      "[[ True  True  True]\n",
      " [ True  True  True]\n",
      " [ True  True  True]\n",
      " [ True  True  True]\n",
      " [ True  True  True]\n",
      " [ True  True  True]\n",
      " [ True  True  True]\n",
      " [ True  True  True]]\n"
     ]
    }
   ],
   "source": [
    "print(element.tabulate_dof_coordinates(cell) == mesh.coordinates()[d2v[dofmap.cell_dofs(cell.index())]])"
   ]
  },
  {
   "cell_type": "code",
   "execution_count": null,
   "metadata": {
    "collapsed": true
   },
   "outputs": [],
   "source": []
  }
 ],
 "metadata": {
  "kernelspec": {
   "display_name": "Python 3",
   "language": "python",
   "name": "python3"
  },
  "language_info": {
   "codemirror_mode": {
    "name": "ipython",
    "version": 3
   },
   "file_extension": ".py",
   "mimetype": "text/x-python",
   "name": "python",
   "nbconvert_exporter": "python",
   "pygments_lexer": "ipython3",
   "version": "3.5.2"
  }
 },
 "nbformat": 4,
 "nbformat_minor": 2
}
