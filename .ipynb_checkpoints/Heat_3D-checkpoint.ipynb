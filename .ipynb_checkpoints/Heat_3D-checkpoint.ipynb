{
 "cells": [
  {
   "cell_type": "code",
   "execution_count": 1,
   "metadata": {},
   "outputs": [
    {
     "name": "stdout",
     "output_type": "stream",
     "text": [
      "/home/fenics/shared/trash\r\n"
     ]
    }
   ],
   "source": [
    "from IPython.display import HTML\n",
    "from dolfin import *\n",
    "#import dijitso\n",
    "#dijitso.set_log_level('debug')\n",
    "import numpy\n",
    "parameters[\"form_compiler\"][\"representation\"] = \"uflacs\"\n",
    "import matplotlib.pyplot as plt\n",
    "%matplotlib inline\n",
    "!cd ~/.cache/fenics && rm -r dijitso && cd -\n",
    "#HTML(X3DOM().html(u))"
   ]
  },
  {
   "cell_type": "code",
   "execution_count": 18,
   "metadata": {
    "collapsed": true
   },
   "outputs": [],
   "source": [
    "#simple scan strategy\n",
    "def scan_strategy():\n",
    "    steps=200.0\n",
    "    box=[[0.0, 1.0],[0.0, 1.0]]\n",
    "\n",
    "    steps_per_vector=50\n",
    "    hatch=(box[1][1]-box[1][0])/(steps/steps_per_vector)\n",
    "    #\n",
    "    origin=[-0.1, 0.0] \n",
    "    points=[]\n",
    "    increment=(box[0][1]-box[0][0])/steps_per_vector\n",
    "    for a_vector in range(int(steps/steps_per_vector)):\n",
    "        column_x2=origin[1]+a_vector*hatch\n",
    "        for a_point in range(int(steps_per_vector)):\n",
    "            column_x1=origin[0]+a_point*increment\n",
    "            points.append([column_x1,column_x2,0.25])\n",
    "    return points\n",
    "\n",
    "laser_points = scan_strategy()"
   ]
  },
  {
   "cell_type": "code",
   "execution_count": 19,
   "metadata": {
    "collapsed": true
   },
   "outputs": [],
   "source": [
    "def change_size(mesh, x = 1, y = 1, z = 1):\n",
    "    new_mesh = Mesh(mesh)\n",
    "    new_mesh.coordinates()[:, 0] = x*mesh.coordinates()[:, 0]\n",
    "    new_mesh.coordinates()[:, 1] = y*mesh.coordinates()[:, 1]\n",
    "    new_mesh.coordinates()[:, 2] = z*mesh.coordinates()[:, 2]\n",
    "    return new_mesh"
   ]
  },
  {
   "cell_type": "code",
   "execution_count": 20,
   "metadata": {
    "collapsed": true
   },
   "outputs": [],
   "source": [
    "mesh = UnitHexMesh(mpi_comm_world(), 50, 50, 5)\n",
    "#mesh = UnitCubeMesh(50, 50, 5)\n",
    "mesh = change_size(mesh, z = 0.25)"
   ]
  },
  {
   "cell_type": "code",
   "execution_count": 21,
   "metadata": {},
   "outputs": [],
   "source": [
    "# Define boundary func\n",
    "def boundary(x, on_boundary):\n",
    "    return on_boundary and near(x[2], 0.0, DOLFIN_EPS)\n",
    "\n",
    "# Define variational problem\n",
    "V = FunctionSpace(mesh, \"Lagrange\", 1)\n",
    "u = TrialFunction(V)\n",
    "v = TestFunction(V)\n",
    "\n",
    "bc = DirichletBC(V, Constant(293.0), boundary) # Set dirichlet b.c. of value 0 to node set 'boundary'\n",
    "\n",
    "u_0 = Expression('293.0', degree=1)\n",
    "u_n = project(u_0, V)"
   ]
  },
  {
   "cell_type": "code",
   "execution_count": 22,
   "metadata": {},
   "outputs": [],
   "source": [
    "laser_center = Constant([0.5, 0.5, 0.25])\n",
    "laser_power = Constant(5e4)\n",
    "laser_radius = Constant(0.1)\n",
    "f = Expression(\"\"\"sqrt(pow(x[0]-lc[0], 2) + pow(x[1]-lc[1], 2)) <= lr + tol\n",
    "                  ? lp\n",
    "                  : 0.0\"\"\", lp = laser_power, tol = DOLFIN_EPS, lc = laser_center, lr = laser_radius, degree = 1)"
   ]
  },
  {
   "cell_type": "code",
   "execution_count": 23,
   "metadata": {
    "collapsed": true
   },
   "outputs": [],
   "source": [
    "dt = 0.01\n",
    "a = u*v*dx + dt*dot(grad(u), grad(v))*dx\n",
    "L = (u_n + dt*f)*v*dx"
   ]
  },
  {
   "cell_type": "code",
   "execution_count": null,
   "metadata": {},
   "outputs": [
    {
     "name": "stdout",
     "output_type": "stream",
     "text": [
      "Calling FFC just-in-time (JIT) compiler, this may take some time.\n"
     ]
    }
   ],
   "source": [
    "# Create XDMF file for saving solution\n",
    "file = XDMFFile(\"heat_solution_hex.xdmf\")\n",
    "file.parameters[\"rewrite_function_mesh\"] = False\n",
    "\n",
    "u1 = Function(V)\n",
    "u1.rename(\"u1\", \"temperature\")\n",
    "\n",
    "# Time stepping\n",
    "dt = 0.01\n",
    "t = 0\n",
    "num_steps = 200\n",
    "\n",
    "A = assemble(a) # Assemble lhs\n",
    "bc.apply(A)\n",
    "\n",
    "for n in range(num_steps):\n",
    "    \n",
    "    # Update laser placement\n",
    "    laser_center.assign(Constant(laser_points[n]))\n",
    "    \n",
    "    b = assemble(L) # Assemble the rhs vector\n",
    "    \n",
    "    bc.apply(b) # Apply boundary conditions\n",
    "    \n",
    "    # Solve linear system\n",
    "    solve(A, u1.vector(), b )\n",
    "    \n",
    "    # Save current solution to file\n",
    "    file.write(u1, t, XDMFFile.Encoding_ASCII)\n",
    "\n",
    "    # Update previous solution\n",
    "    u_n.assign(u1)\n",
    "    \n",
    "    # Update current time\n",
    "    t += dt"
   ]
  },
  {
   "cell_type": "code",
   "execution_count": null,
   "metadata": {
    "collapsed": true
   },
   "outputs": [],
   "source": [
    "HTML(X3DOM().html(u1))"
   ]
  },
  {
   "cell_type": "code",
   "execution_count": null,
   "metadata": {
    "collapsed": true
   },
   "outputs": [],
   "source": []
  }
 ],
 "metadata": {
  "kernelspec": {
   "display_name": "Python 3",
   "language": "python",
   "name": "python3"
  },
  "language_info": {
   "codemirror_mode": {
    "name": "ipython",
    "version": 3
   },
   "file_extension": ".py",
   "mimetype": "text/x-python",
   "name": "python",
   "nbconvert_exporter": "python",
   "pygments_lexer": "ipython3",
   "version": "3.5.2"
  }
 },
 "nbformat": 4,
 "nbformat_minor": 2
}
