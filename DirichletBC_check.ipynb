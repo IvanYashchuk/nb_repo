{
 "cells": [
  {
   "cell_type": "code",
   "execution_count": 1,
   "metadata": {},
   "outputs": [
    {
     "name": "stdout",
     "output_type": "stream",
     "text": [
      "/home/fenics/shared/trash\r\n"
     ]
    }
   ],
   "source": [
    "from IPython.display import HTML\n",
    "from dolfin import *\n",
    "#import dijitso\n",
    "#dijitso.set_log_level('debug')\n",
    "import numpy\n",
    "parameters[\"form_compiler\"][\"representation\"] = \"uflacs\"\n",
    "import matplotlib.pyplot as plt\n",
    "%matplotlib inline\n",
    "!cd ~/.cache/fenics && rm -r dijitso && cd -\n",
    "#HTML(X3DOM().html(u))"
   ]
  },
  {
   "cell_type": "markdown",
   "metadata": {},
   "source": [
    "Check `DirichletBC` for hex cells:"
   ]
  },
  {
   "cell_type": "code",
   "execution_count": 2,
   "metadata": {},
   "outputs": [
    {
     "name": "stdout",
     "output_type": "stream",
     "text": [
      "Calling FFC just-in-time (JIT) compiler, this may take some time.\n",
      "[[ 1.    0.    0.  ]\n",
      " [ 0.75  0.75  0.  ]\n",
      " [ 0.5   0.5   0.  ]\n",
      " [ 0.75  0.    0.  ]\n",
      " [ 0.5   0.25  0.  ]\n",
      " [ 0.75  0.5   0.  ]\n",
      " [ 1.    0.75  0.  ]\n",
      " [ 1.    0.5   0.  ]\n",
      " [ 0.75  0.5   0.  ]\n",
      " [ 1.    0.25  0.  ]\n",
      " [ 0.75  0.25  0.  ]\n",
      " [ 0.75  1.    0.  ]\n",
      " [ 0.    0.    0.  ]\n",
      " [ 0.25  0.    0.  ]\n",
      " [ 0.    0.5   0.  ]\n",
      " [ 0.    0.25  0.  ]\n",
      " [ 0.25  0.25  0.  ]\n",
      " [ 0.25  0.5   0.  ]\n",
      " [ 0.5   0.    0.  ]\n",
      " [ 0.    1.    0.  ]\n",
      " [ 0.5   1.    0.  ]\n",
      " [ 0.    0.75  0.  ]\n",
      " [ 0.5   0.75  0.  ]\n",
      " [ 0.25  0.75  0.  ]\n",
      " [ 1.    1.    0.  ]]\n"
     ]
    }
   ],
   "source": [
    "# mesh = UnitQuadMesh(mpi_comm_world(), 2, 2)\n",
    "#mesh = UnitSquareMesh(2, 1)\n",
    "mesh = UnitHexMesh(mpi_comm_world(), 2, 2, 2)\n",
    "#mesh = UnitTriangleMesh()\n",
    "\n",
    "# P2 elements\n",
    "V = FunctionSpace(mesh, \"Lagrange\", 2)\n",
    "\n",
    "element = V.element()\n",
    "dofmap = V.dofmap()\n",
    "\n",
    "dim = 3\n",
    "coord = V.tabulate_dof_coordinates()\n",
    "coord = coord.reshape(int(len(coord)/dim), dim)\n",
    "\n",
    "def boundary(x):\n",
    "    return x[2] < DOLFIN_EPS\n",
    "\n",
    "bc = DirichletBC(V, Constant(0.0), boundary)\n",
    "\n",
    "# Print coordinates where bc is applied\n",
    "print(coord[list(bc.get_boundary_values().keys())])"
   ]
  },
  {
   "cell_type": "markdown",
   "metadata": {},
   "source": [
    "Check `DirichletBC` for quad cells:"
   ]
  },
  {
   "cell_type": "code",
   "execution_count": 3,
   "metadata": {},
   "outputs": [
    {
     "name": "stdout",
     "output_type": "stream",
     "text": [
      "Calling FFC just-in-time (JIT) compiler, this may take some time.\n",
      "[[ 0.    0.  ]\n",
      " [ 0.    0.75]\n",
      " [ 0.    0.5 ]\n",
      " [ 0.    0.25]\n",
      " [ 0.    1.  ]]\n"
     ]
    }
   ],
   "source": [
    "mesh = UnitQuadMesh(mpi_comm_world(), 2, 2)\n",
    "\n",
    "# P2 elements\n",
    "V = FunctionSpace(mesh, \"Lagrange\", 2)\n",
    "\n",
    "element = V.element()\n",
    "dofmap = V.dofmap()\n",
    "\n",
    "dim = 2\n",
    "coord = V.tabulate_dof_coordinates()\n",
    "coord = coord.reshape(int(len(coord)/dim), dim)\n",
    "\n",
    "def boundary(x):\n",
    "    return x[0] < DOLFIN_EPS\n",
    "\n",
    "bc = DirichletBC(V, Constant(0.0), boundary)\n",
    "\n",
    "# Print coordinates where bc is applied\n",
    "print(coord[list(bc.get_boundary_values().keys())])"
   ]
  },
  {
   "cell_type": "code",
   "execution_count": null,
   "metadata": {
    "collapsed": true
   },
   "outputs": [],
   "source": []
  }
 ],
 "metadata": {
  "kernelspec": {
   "display_name": "Python 3",
   "language": "python",
   "name": "python3"
  },
  "language_info": {
   "codemirror_mode": {
    "name": "ipython",
    "version": 3
   },
   "file_extension": ".py",
   "mimetype": "text/x-python",
   "name": "python",
   "nbconvert_exporter": "python",
   "pygments_lexer": "ipython3",
   "version": "3.5.2"
  }
 },
 "nbformat": 4,
 "nbformat_minor": 2
}
