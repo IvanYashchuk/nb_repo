{
 "cells": [
  {
   "cell_type": "code",
   "execution_count": 1,
   "metadata": {},
   "outputs": [
    {
     "name": "stdout",
     "output_type": "stream",
     "text": [
      "/home/fenics/shared/trash\r\n"
     ]
    }
   ],
   "source": [
    "from IPython.display import HTML\n",
    "from dolfin import *\n",
    "#import dijitso\n",
    "#dijitso.set_log_level('debug')\n",
    "import numpy\n",
    "parameters[\"form_compiler\"][\"representation\"] = \"uflacs\"\n",
    "import matplotlib.pyplot as plt\n",
    "%matplotlib inline\n",
    "!cd ~/.cache/fenics && rm -r dijitso && cd -\n",
    "#HTML(X3DOM().html(u))"
   ]
  },
  {
   "cell_type": "code",
   "execution_count": 2,
   "metadata": {
    "collapsed": true
   },
   "outputs": [],
   "source": [
    "def error_calc(h, mesh_type, p_degree = 1):\n",
    "    if mesh_type == 'tri':\n",
    "        mesh = UnitSquareMesh(h, h)\n",
    "    elif mesh_type == 'quad':\n",
    "        mesh = UnitQuadMesh(mpi_comm_world(), h, h)\n",
    "    elif mesh_type == 'tet':\n",
    "        mesh = UnitCubeMesh(h, h, 5)\n",
    "    elif mesh_type == 'hex':\n",
    "        mesh = UnitHexMesh(mpi_comm_world(), h, h, 5)\n",
    "\n",
    "    V = FunctionSpace(mesh, \"Lagrange\", p_degree)\n",
    "    u_D = Expression('1 + x[0]*x[0] + 2*x[1]*x[1]', degree=2)\n",
    "\n",
    "    bc_boundary = CompiledSubDomain('near(x[0], 0) || near(x[1], 0) || near(x[0], 1) || near(x[1], 1)')\n",
    "    \n",
    "    f = -6\n",
    "\n",
    "    # Define variational problem\n",
    "    u = TrialFunction(V)\n",
    "    v = TestFunction(V)\n",
    "\n",
    "    a = dot(grad(u), grad(v))*dx\n",
    "    L = f*v*dx\n",
    "\n",
    "    bc = DirichletBC(V, u_D, bc_boundary)\n",
    "    u = Function(V)\n",
    "    solve(a == L, u, bc)\n",
    "    \n",
    "    grad_u_D = Expression(('2*x[0]', '4*x[1]'), degree = 2)\n",
    "    \n",
    "    error = (u_D - u)**2*dx\n",
    "    error1 = (grad_u_D - grad(u))**2*dx + (u_D - u)**2*dx\n",
    "    l2 = sqrt(abs(assemble(error)))\n",
    "    h1 = sqrt(abs(assemble(error1)))\n",
    "\n",
    "    return l2, h1"
   ]
  },
  {
   "cell_type": "code",
   "execution_count": 3,
   "metadata": {},
   "outputs": [
    {
     "name": "stdout",
     "output_type": "stream",
     "text": [
      "Calling FFC just-in-time (JIT) compiler, this may take some time.\n",
      "Calling FFC just-in-time (JIT) compiler, this may take some time.\n",
      "Calling FFC just-in-time (JIT) compiler, this may take some time.\n",
      "Calling FFC just-in-time (JIT) compiler, this may take some time.\n",
      "Calling FFC just-in-time (JIT) compiler, this may take some time.\n",
      "Calling FFC just-in-time (JIT) compiler, this may take some time.\n",
      "Calling FFC just-in-time (JIT) compiler, this may take some time.\n",
      "Calling FFC just-in-time (JIT) compiler, this may take some time.\n",
      "Calling FFC just-in-time (JIT) compiler, this may take some time.\n"
     ]
    },
    {
     "data": {
      "text/plain": [
       "<matplotlib.text.Text at 0x7f49d8513390>"
      ]
     },
     "execution_count": 3,
     "metadata": {},
     "output_type": "execute_result"
    },
    {
     "data": {
      "image/png": "[encoded data removed]",
      "text/plain": [
       "<matplotlib.figure.Figure at 0x7f49ec5b16a0>"
      ]
     },
     "metadata": {},
     "output_type": "display_data"
    }
   ],
   "source": [
    "h_list = numpy.array([5, 10, 20, 40, 60, 80, 100, 125, 150])\n",
    "L2_err = numpy.zeros((len(h_list), 1))\n",
    "H1_err = numpy.zeros((len(h_list), 1))\n",
    "for idx, h in enumerate(h_list):\n",
    "    L2_err[idx], H1_err[idx] = error_calc(h, 'quad')\n",
    "\n",
    "plt.style.use('ggplot')\n",
    "plt.loglog(h_list, L2_err, 'o-', label='L2')\n",
    "plt.loglog(h_list, H1_err, 'o-', label='H1')\n",
    "plt.legend(loc='center left', bbox_to_anchor=(1, 0.5), fancybox=True, shadow=True)\n",
    "plt.xlabel(\"No. elements\")\n",
    "plt.ylabel(\"Error\")\n",
    "plt.title(\"Q1 element\")"
   ]
  },
  {
   "cell_type": "code",
   "execution_count": null,
   "metadata": {
    "collapsed": true
   },
   "outputs": [],
   "source": []
  }
 ],
 "metadata": {
  "kernelspec": {
   "display_name": "Python 3",
   "language": "python",
   "name": "python3"
  },
  "language_info": {
   "codemirror_mode": {
    "name": "ipython",
    "version": 3
   },
   "file_extension": ".py",
   "mimetype": "text/x-python",
   "name": "python",
   "nbconvert_exporter": "python",
   "pygments_lexer": "ipython3",
   "version": "3.5.2"
  }
 },
 "nbformat": 4,
 "nbformat_minor": 2
}
