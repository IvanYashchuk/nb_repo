{
 "cells": [
  {
   "cell_type": "code",
   "execution_count": 1,
   "metadata": {},
   "outputs": [
    {
     "name": "stdout",
     "output_type": "stream",
     "text": [
      "/home/fenics/shared/trash\r\n"
     ]
    }
   ],
   "source": [
    "from IPython.display import HTML\n",
    "from dolfin import *\n",
    "import numpy\n",
    "#import dijitso\n",
    "#dijitso.set_log_level('debug')\n",
    "parameters[\"form_compiler\"][\"representation\"] = \"uflacs\"\n",
    "import matplotlib.pyplot as plt\n",
    "%matplotlib inline\n",
    "!cd ~/.cache/fenics && rm -r dijitso && cd -"
   ]
  },
  {
   "cell_type": "markdown",
   "metadata": {},
   "source": [
    "Declare the domain $\\Omega$ be the unit square or the unit cube"
   ]
  },
  {
   "cell_type": "code",
   "execution_count": 26,
   "metadata": {},
   "outputs": [],
   "source": [
    "# Create mesh\n",
    "mesh_quad = UnitQuadMesh(mpi_comm_world(), 3, 3)\n",
    "mesh_hex = UnitHexMesh(mpi_comm_world(), 3, 3, 3)"
   ]
  },
  {
   "cell_type": "markdown",
   "metadata": {},
   "source": [
    "Solution to $\\int_\\Omega 1 \\, dx$ gives correct values for the unit mesh."
   ]
  },
  {
   "cell_type": "code",
   "execution_count": 27,
   "metadata": {},
   "outputs": [
    {
     "name": "stdout",
     "output_type": "stream",
     "text": [
      "1.0000000000000002\n",
      "1.0000000000000002\n"
     ]
    }
   ],
   "source": [
    "print(assemble(1.0*dx(mesh_quad)))\n",
    "print(assemble(1.0*dx(mesh_hex)))"
   ]
  },
  {
   "cell_type": "markdown",
   "metadata": {},
   "source": [
    "Solution to $\\int_\\Omega x_{\\{1, 2, 3\\}} \\, dx$ gives correct values for the unit mesh."
   ]
  },
  {
   "cell_type": "code",
   "execution_count": 28,
   "metadata": {},
   "outputs": [
    {
     "name": "stdout",
     "output_type": "stream",
     "text": [
      "0.5\n",
      "0.49999999999999994\n",
      "1e-323\n"
     ]
    }
   ],
   "source": [
    "print(assemble(Expression('x[0]', degree = 1)*dx(mesh_quad)))\n",
    "print(assemble(Expression('x[1]', degree = 1)*dx(mesh_quad)))\n",
    "print(assemble(Expression('x[2]', degree = 1)*dx(mesh_quad)))"
   ]
  },
  {
   "cell_type": "code",
   "execution_count": 29,
   "metadata": {},
   "outputs": [
    {
     "name": "stdout",
     "output_type": "stream",
     "text": [
      "0.5000000000000002\n",
      "0.5000000000000002\n",
      "0.5000000000000001\n"
     ]
    }
   ],
   "source": [
    "print(assemble(Expression('x[0]', degree = 1)*dx(mesh_hex)))\n",
    "print(assemble(Expression('x[1]', degree = 1)*dx(mesh_hex)))\n",
    "print(assemble(Expression('x[2]', degree = 1)*dx(mesh_hex)))"
   ]
  },
  {
   "cell_type": "markdown",
   "metadata": {},
   "source": [
    "Solution to $\\int_\\Omega 1 \\, dx$ remains the same with shearing the mesh."
   ]
  },
  {
   "cell_type": "code",
   "execution_count": 30,
   "metadata": {
    "collapsed": true
   },
   "outputs": [],
   "source": [
    "def shear_map_quad(imput_mesh, lmbd):\n",
    "    new_mesh = Mesh(imput_mesh)\n",
    "    new_mesh.coordinates()[:, 0] = imput_mesh.coordinates()[:, 0] + lmbd*imput_mesh.coordinates()[:, 1]\n",
    "    new_mesh.coordinates()[:, 1] = imput_mesh.coordinates()[:, 1]\n",
    "    return new_mesh\n",
    "\n",
    "def shear_map_hex(imput_mesh, lmbd):\n",
    "    new_mesh = Mesh(imput_mesh)\n",
    "    new_mesh.coordinates()[:, 0] = imput_mesh.coordinates()[:, 0] + lmbd*imput_mesh.coordinates()[:, 1]\n",
    "    new_mesh.coordinates()[:, 1] = imput_mesh.coordinates()[:, 1]\n",
    "    new_mesh.coordinates()[:, 2] = imput_mesh.coordinates()[:, 2]\n",
    "    return new_mesh"
   ]
  },
  {
   "cell_type": "code",
   "execution_count": 31,
   "metadata": {
    "collapsed": true
   },
   "outputs": [],
   "source": [
    "sheared_mesh_quad = shear_map_quad(mesh_quad, 1.0)\n",
    "sheared_mesh_hex = shear_map_hex(mesh_hex, 1.0)"
   ]
  },
  {
   "cell_type": "code",
   "execution_count": 32,
   "metadata": {},
   "outputs": [
    {
     "name": "stdout",
     "output_type": "stream",
     "text": [
      "1.0\n",
      "1.0000000000000002\n"
     ]
    }
   ],
   "source": [
    "print(assemble(1.0*dx(sheared_mesh_quad)))\n",
    "print(assemble(1.0*dx(sheared_mesh_hex)))"
   ]
  },
  {
   "cell_type": "markdown",
   "metadata": {},
   "source": [
    "_____\n",
    "Interpolation of a function into a FunctionSpace"
   ]
  },
  {
   "cell_type": "code",
   "execution_count": 33,
   "metadata": {
    "collapsed": true
   },
   "outputs": [],
   "source": [
    "V_quad = FunctionSpace(mesh_quad, \"Lagrange\", 1)\n",
    "V_hex = FunctionSpace(mesh_hex, \"Lagrange\", 1)"
   ]
  },
  {
   "cell_type": "code",
   "execution_count": 34,
   "metadata": {
    "collapsed": true
   },
   "outputs": [],
   "source": [
    "u = Expression('x[0]*x[0] + 2*x[1]*x[1] + 4*x[2]*x[2]', degree=2)\n",
    "u_correct_q = lambda x: x[0]*x[0] + 2*x[1]*x[1]\n",
    "u_correct_h = lambda x: x[0]*x[0] + 2*x[1]*x[1] + 4*x[2]*x[2]\n",
    "u_quad = interpolate(u, V_quad)\n",
    "u_hex = interpolate(u, V_hex)"
   ]
  },
  {
   "cell_type": "code",
   "execution_count": 37,
   "metadata": {},
   "outputs": [
    {
     "name": "stdout",
     "output_type": "stream",
     "text": [
      "vertex_values[0] = 0 \t correct_value = 0 \t point([ 0.  0.])\n",
      "vertex_values[1] = 0.111111 \t correct_value = 0.111111 \t point([ 0.33333333  0.        ])\n",
      "vertex_values[2] = 0.444444 \t correct_value = 0.444444 \t point([ 0.66666667  0.        ])\n",
      "vertex_values[3] = 1 \t correct_value = 1 \t point([ 1.  0.])\n",
      "vertex_values[4] = 0.222222 \t correct_value = 0.222222 \t point([ 0.          0.33333333])\n",
      "vertex_values[5] = 0.333333 \t correct_value = 0.333333 \t point([ 0.33333333  0.33333333])\n",
      "vertex_values[6] = 0.666667 \t correct_value = 0.666667 \t point([ 0.66666667  0.33333333])\n",
      "vertex_values[7] = 1.22222 \t correct_value = 1.22222 \t point([ 1.          0.33333333])\n",
      "vertex_values[8] = 0.888889 \t correct_value = 0.888889 \t point([ 0.          0.66666667])\n",
      "vertex_values[9] = 1 \t correct_value = 1 \t point([ 0.33333333  0.66666667])\n",
      "vertex_values[10] = 1.33333 \t correct_value = 1.33333 \t point([ 0.66666667  0.66666667])\n",
      "vertex_values[11] = 1.88889 \t correct_value = 1.88889 \t point([ 1.          0.66666667])\n",
      "vertex_values[12] = 2 \t correct_value = 2 \t point([ 0.  1.])\n",
      "vertex_values[13] = 2.11111 \t correct_value = 2.11111 \t point([ 0.33333333  1.        ])\n",
      "vertex_values[14] = 2.44444 \t correct_value = 2.44444 \t point([ 0.66666667  1.        ])\n",
      "vertex_values[15] = 3 \t correct_value = 3 \t point([ 1.  1.])\n"
     ]
    }
   ],
   "source": [
    "# Quad case\n",
    "vertex_values = u_quad.compute_vertex_values()\n",
    "for i, x in enumerate(mesh_quad.coordinates()):\n",
    "    print('vertex_values[%d] = %g \\t correct_value = %g \\t point(%s)' %\n",
    "        (i, vertex_values[i], u_correct_q(x), x))"
   ]
  },
  {
   "cell_type": "code",
   "execution_count": 38,
   "metadata": {},
   "outputs": [
    {
     "name": "stdout",
     "output_type": "stream",
     "text": [
      "vertex_values[0] = 0 \t correct_value = 0 \t point([ 0.  0.  0.])\n",
      "vertex_values[1] = 0.111111 \t correct_value = 0.111111 \t point([ 0.33333333  0.          0.        ])\n",
      "vertex_values[2] = 0.444444 \t correct_value = 0.444444 \t point([ 0.66666667  0.          0.        ])\n",
      "vertex_values[3] = 1 \t correct_value = 1 \t point([ 1.  0.  0.])\n",
      "vertex_values[4] = 0.222222 \t correct_value = 0.222222 \t point([ 0.          0.33333333  0.        ])\n",
      "vertex_values[5] = 0.333333 \t correct_value = 0.333333 \t point([ 0.33333333  0.33333333  0.        ])\n",
      "vertex_values[6] = 0.666667 \t correct_value = 0.666667 \t point([ 0.66666667  0.33333333  0.        ])\n",
      "vertex_values[7] = 1.22222 \t correct_value = 1.22222 \t point([ 1.          0.33333333  0.        ])\n",
      "vertex_values[8] = 0.888889 \t correct_value = 0.888889 \t point([ 0.          0.66666667  0.        ])\n",
      "vertex_values[9] = 1 \t correct_value = 1 \t point([ 0.33333333  0.66666667  0.        ])\n",
      "vertex_values[10] = 1.33333 \t correct_value = 1.33333 \t point([ 0.66666667  0.66666667  0.        ])\n",
      "vertex_values[11] = 1.88889 \t correct_value = 1.88889 \t point([ 1.          0.66666667  0.        ])\n",
      "vertex_values[12] = 2 \t correct_value = 2 \t point([ 0.  1.  0.])\n",
      "vertex_values[13] = 2.11111 \t correct_value = 2.11111 \t point([ 0.33333333  1.          0.        ])\n",
      "vertex_values[14] = 2.44444 \t correct_value = 2.44444 \t point([ 0.66666667  1.          0.        ])\n",
      "vertex_values[15] = 3 \t correct_value = 3 \t point([ 1.  1.  0.])\n",
      "vertex_values[16] = 0.444444 \t correct_value = 0.444444 \t point([ 0.          0.          0.33333333])\n",
      "vertex_values[17] = 0.555556 \t correct_value = 0.555556 \t point([ 0.33333333  0.          0.33333333])\n",
      "vertex_values[18] = 0.888889 \t correct_value = 0.888889 \t point([ 0.66666667  0.          0.33333333])\n",
      "vertex_values[19] = 1.44444 \t correct_value = 1.44444 \t point([ 1.          0.          0.33333333])\n",
      "vertex_values[20] = 0.666667 \t correct_value = 0.666667 \t point([ 0.          0.33333333  0.33333333])\n",
      "vertex_values[21] = 0.777778 \t correct_value = 0.777778 \t point([ 0.33333333  0.33333333  0.33333333])\n",
      "vertex_values[22] = 1.11111 \t correct_value = 1.11111 \t point([ 0.66666667  0.33333333  0.33333333])\n",
      "vertex_values[23] = 1.66667 \t correct_value = 1.66667 \t point([ 1.          0.33333333  0.33333333])\n",
      "vertex_values[24] = 1.33333 \t correct_value = 1.33333 \t point([ 0.          0.66666667  0.33333333])\n",
      "vertex_values[25] = 1.44444 \t correct_value = 1.44444 \t point([ 0.33333333  0.66666667  0.33333333])\n",
      "vertex_values[26] = 1.77778 \t correct_value = 1.77778 \t point([ 0.66666667  0.66666667  0.33333333])\n",
      "vertex_values[27] = 2.33333 \t correct_value = 2.33333 \t point([ 1.          0.66666667  0.33333333])\n",
      "vertex_values[28] = 2.44444 \t correct_value = 2.44444 \t point([ 0.          1.          0.33333333])\n",
      "vertex_values[29] = 2.55556 \t correct_value = 2.55556 \t point([ 0.33333333  1.          0.33333333])\n",
      "vertex_values[30] = 2.88889 \t correct_value = 2.88889 \t point([ 0.66666667  1.          0.33333333])\n",
      "vertex_values[31] = 3.44444 \t correct_value = 3.44444 \t point([ 1.          1.          0.33333333])\n",
      "vertex_values[32] = 1.77778 \t correct_value = 1.77778 \t point([ 0.          0.          0.66666667])\n",
      "vertex_values[33] = 1.88889 \t correct_value = 1.88889 \t point([ 0.33333333  0.          0.66666667])\n",
      "vertex_values[34] = 2.22222 \t correct_value = 2.22222 \t point([ 0.66666667  0.          0.66666667])\n",
      "vertex_values[35] = 2.77778 \t correct_value = 2.77778 \t point([ 1.          0.          0.66666667])\n",
      "vertex_values[36] = 2 \t correct_value = 2 \t point([ 0.          0.33333333  0.66666667])\n",
      "vertex_values[37] = 2.11111 \t correct_value = 2.11111 \t point([ 0.33333333  0.33333333  0.66666667])\n",
      "vertex_values[38] = 2.44444 \t correct_value = 2.44444 \t point([ 0.66666667  0.33333333  0.66666667])\n",
      "vertex_values[39] = 3 \t correct_value = 3 \t point([ 1.          0.33333333  0.66666667])\n",
      "vertex_values[40] = 2.66667 \t correct_value = 2.66667 \t point([ 0.          0.66666667  0.66666667])\n",
      "vertex_values[41] = 2.77778 \t correct_value = 2.77778 \t point([ 0.33333333  0.66666667  0.66666667])\n",
      "vertex_values[42] = 3.11111 \t correct_value = 3.11111 \t point([ 0.66666667  0.66666667  0.66666667])\n",
      "vertex_values[43] = 3.66667 \t correct_value = 3.66667 \t point([ 1.          0.66666667  0.66666667])\n",
      "vertex_values[44] = 3.77778 \t correct_value = 3.77778 \t point([ 0.          1.          0.66666667])\n",
      "vertex_values[45] = 3.88889 \t correct_value = 3.88889 \t point([ 0.33333333  1.          0.66666667])\n",
      "vertex_values[46] = 4.22222 \t correct_value = 4.22222 \t point([ 0.66666667  1.          0.66666667])\n",
      "vertex_values[47] = 4.77778 \t correct_value = 4.77778 \t point([ 1.          1.          0.66666667])\n",
      "vertex_values[48] = 4 \t correct_value = 4 \t point([ 0.  0.  1.])\n",
      "vertex_values[49] = 4.11111 \t correct_value = 4.11111 \t point([ 0.33333333  0.          1.        ])\n",
      "vertex_values[50] = 4.44444 \t correct_value = 4.44444 \t point([ 0.66666667  0.          1.        ])\n",
      "vertex_values[51] = 5 \t correct_value = 5 \t point([ 1.  0.  1.])\n",
      "vertex_values[52] = 4.22222 \t correct_value = 4.22222 \t point([ 0.          0.33333333  1.        ])\n",
      "vertex_values[53] = 4.33333 \t correct_value = 4.33333 \t point([ 0.33333333  0.33333333  1.        ])\n",
      "vertex_values[54] = 4.66667 \t correct_value = 4.66667 \t point([ 0.66666667  0.33333333  1.        ])\n",
      "vertex_values[55] = 5.22222 \t correct_value = 5.22222 \t point([ 1.          0.33333333  1.        ])\n",
      "vertex_values[56] = 4.88889 \t correct_value = 4.88889 \t point([ 0.          0.66666667  1.        ])\n",
      "vertex_values[57] = 5 \t correct_value = 5 \t point([ 0.33333333  0.66666667  1.        ])\n",
      "vertex_values[58] = 5.33333 \t correct_value = 5.33333 \t point([ 0.66666667  0.66666667  1.        ])\n",
      "vertex_values[59] = 5.88889 \t correct_value = 5.88889 \t point([ 1.          0.66666667  1.        ])\n",
      "vertex_values[60] = 6 \t correct_value = 6 \t point([ 0.  1.  1.])\n",
      "vertex_values[61] = 6.11111 \t correct_value = 6.11111 \t point([ 0.33333333  1.          1.        ])\n",
      "vertex_values[62] = 6.44444 \t correct_value = 6.44444 \t point([ 0.66666667  1.          1.        ])\n",
      "vertex_values[63] = 7 \t correct_value = 7 \t point([ 1.  1.  1.])\n"
     ]
    }
   ],
   "source": [
    "# Hex case\n",
    "vertex_values = u_hex.compute_vertex_values()\n",
    "for i, x in enumerate(mesh_hex.coordinates()):\n",
    "    print('vertex_values[%d] = %g \\t correct_value = %g \\t point(%s)' %\n",
    "        (i, vertex_values[i], u_correct_h(x), x))"
   ]
  },
  {
   "cell_type": "markdown",
   "metadata": {},
   "source": [
    "Integrating a function over the domain gives correct result"
   ]
  },
  {
   "cell_type": "code",
   "execution_count": 43,
   "metadata": {},
   "outputs": [
    {
     "name": "stdout",
     "output_type": "stream",
     "text": [
      "True\n"
     ]
    }
   ],
   "source": [
    "triangle_result = assemble(u * dx(UnitSquareMesh(3, 3)))\n",
    "quad_result = assemble(u * dx(mesh_quad))\n",
    "print(triangle_result == quad_result)"
   ]
  },
  {
   "cell_type": "code",
   "execution_count": 49,
   "metadata": {},
   "outputs": [
    {
     "name": "stdout",
     "output_type": "stream",
     "text": [
      "True\n"
     ]
    }
   ],
   "source": [
    "tet_result = assemble(u * dx(UnitCubeMesh(3, 3, 3)))\n",
    "hex_result = assemble(u * dx(mesh_hex))\n",
    "print(numpy.isclose(tet_result, hex_result))"
   ]
  },
  {
   "cell_type": "markdown",
   "metadata": {},
   "source": [
    "__________\n",
    "Poisson's equation can be solved on a quad mesh, but `DirichletBC` does not work properly yet (it applies b.c. to the wrong dofs)"
   ]
  },
  {
   "cell_type": "code",
   "execution_count": 50,
   "metadata": {
    "collapsed": true
   },
   "outputs": [],
   "source": [
    "def error_calc(h):\n",
    "    mesh = UnitQuadMesh(mpi_comm_world(), h, h)\n",
    "\n",
    "    V = FunctionSpace(mesh, \"Lagrange\", 1)\n",
    "    u_D = Expression('1 + x[0]*x[0] + 2*x[1]*x[1]', degree=2)\n",
    "    tol = DOLFIN_EPS\n",
    "\n",
    "    # Build the set of vertices where bcs should be prescribed\n",
    "    node_set = VertexFunction('size_t', mesh, 0)\n",
    "    bc_boundary = CompiledSubDomain('near(x[0], 0) || near(x[1], 0) || near(x[0], 1) || near(x[1], 1)')\n",
    "    bc_boundary.mark(node_set, 1)\n",
    "    # Only keep vertices marked as 1\n",
    "    node_set = [v.index() for v in SubsetIterator(node_set, 1)]\n",
    "    dof_set = numpy.array(vertex_to_dof_map(V)[node_set], dtype='intc')\n",
    "    \n",
    "    # Shear mapping\n",
    "    #V = FunctionSpace(shear_map(mesh, 1), \"Lagrange\", 1)\n",
    "    \n",
    "    f = -6\n",
    "\n",
    "    # Define variational problem\n",
    "    u = TrialFunction(V)\n",
    "    v = TestFunction(V)\n",
    "\n",
    "    a = dot(grad(u), grad(v))*dx\n",
    "    L = f*v*dx\n",
    "\n",
    "    A = assemble(a)\n",
    "    # Modify A: zero bc row & set diagonal to 1\n",
    "    A.ident_local(dof_set)\n",
    "    A.apply('insert')\n",
    "\n",
    "    b = assemble(L)\n",
    "    # Modify b: entry in the bc row is taken from bc_f\n",
    "    bc_values = interpolate(u_D, V).vector().array()\n",
    "    b_values = b.array()\n",
    "    b_values[dof_set] = bc_values[dof_set]\n",
    "    b.set_local(b_values)\n",
    "    b.apply('insert')\n",
    "\n",
    "    u = Function(V)\n",
    "    solve(A, u.vector(), b)\n",
    "    \n",
    "    error = (u_D - u)**2*dx\n",
    "    E = sqrt(abs(assemble(error)))\n",
    "    return E"
   ]
  },
  {
   "cell_type": "code",
   "execution_count": 52,
   "metadata": {},
   "outputs": [
    {
     "data": {
      "text/plain": [
       "<matplotlib.text.Text at 0x7f24714865f8>"
      ]
     },
     "execution_count": 52,
     "metadata": {},
     "output_type": "execute_result"
    },
    {
     "data": {
      "image/png": "[encoded data removed]",
      "text/plain": [
       "<matplotlib.figure.Figure at 0x7f2473c02fd0>"
      ]
     },
     "metadata": {},
     "output_type": "display_data"
    }
   ],
   "source": [
    "h_list = numpy.array([5, 10, 20, 40, 60, 80, 100, 125, 150])\n",
    "L2_err = numpy.zeros((len(h_list), 1))\n",
    "for idx, h in enumerate(h_list):\n",
    "    L2_err[idx] = error_calc(h)\n",
    "\n",
    "plt.style.use('ggplot')\n",
    "plt.loglog(h_list, L2_err, 'o-', label='u')\n",
    "plt.legend(loc='center left', bbox_to_anchor=(1, 0.5), fancybox=True, shadow=True)\n",
    "plt.xlabel(\"No. elements\")\n",
    "plt.ylabel(\"L2 error\")\n",
    "plt.title(\"Q1 element\")"
   ]
  },
  {
   "cell_type": "markdown",
   "metadata": {},
   "source": [
    "___________\n",
    "Now `DirichletBC` applies b.c. to the wrong nodes"
   ]
  },
  {
   "cell_type": "code",
   "execution_count": 80,
   "metadata": {},
   "outputs": [],
   "source": [
    "V = FunctionSpace(UnitQuadMesh(mpi_comm_world(), 1, 1), \"Lagrange\", 1)\n",
    "def boundary1(x):\n",
    "    return x[0] < DOLFIN_EPS\n",
    "\n",
    "def boundary2(x):\n",
    "    return x[1] < DOLFIN_EPS\n",
    "\n",
    "def boundary3(x):\n",
    "    return x[0] > 1 - DOLFIN_EPS\n",
    "\n",
    "def boundary4(x):\n",
    "    return x[1] > 1 - DOLFIN_EPS\n",
    "\n",
    "# Define boundary condition\n",
    "bc1 = DirichletBC(V, Constant(0.0), boundary1)\n",
    "bc2 = DirichletBC(V, Constant(0.0), boundary2)\n",
    "bc3 = DirichletBC(V, Constant(0.0), boundary3)\n",
    "bc4 = DirichletBC(V, Constant(0.0), boundary4)\n",
    "\n",
    "# Define variational problem\n",
    "u = TrialFunction(V)\n",
    "v = TestFunction(V)\n",
    "\n",
    "a = inner(grad(u), grad(v))*dx\n",
    "L = 1.0*v*dx\n",
    "\n",
    "u1 = Function(V)\n",
    "solve(a==L, u1, bc1)\n",
    "u2 = Function(V)\n",
    "solve(a==L, u2, bc2)\n",
    "u3 = Function(V)\n",
    "solve(a==L, u3, bc3)\n",
    "u4 = Function(V)\n",
    "solve(a==L, u4, bc4)"
   ]
  },
  {
   "cell_type": "code",
   "execution_count": 83,
   "metadata": {},
   "outputs": [
    {
     "name": "stdout",
     "output_type": "stream",
     "text": [
      "[ 0.    0.75  0.    0.75]\n",
      "[ 0.   0.   0.5  0.5]\n",
      "[ 0.5  0.   0.   0.5]\n",
      "[ 1.25  0.    1.25  1.  ]\n"
     ]
    }
   ],
   "source": [
    "print(u1.vector().array()) # Should be [ 0.25,  0.  ,  0.  ,  0.25]\n",
    "print(u2.vector().array()) # Should be [ 0.  ,  0.  ,  0.25,  0.25]\n",
    "print(u3.vector().array()) # Should be [ 0.  ,  0.25,  0.25,  0.  ]\n",
    "print(u4.vector().array()) # Should be [ 0.25,  0.25,  0.  ,  0.  ]"
   ]
  },
  {
   "cell_type": "markdown",
   "metadata": {},
   "source": [
    "____________\n",
    "For the hex case $A$ and $b$ can be assembled. I am not sure if the result is correct. Applying dirichlet b.c. in the same way as for the quad case does not work."
   ]
  },
  {
   "cell_type": "code",
   "execution_count": 87,
   "metadata": {},
   "outputs": [],
   "source": [
    "V = FunctionSpace(UnitHexMesh(mpi_comm_world(), 1, 1, 1), \"Lagrange\", 1)\n",
    "\n",
    "u = TrialFunction(V)\n",
    "v = TestFunction(V)\n",
    "\n",
    "a = inner(grad(u), grad(v))*dx\n",
    "L = 1.0*v*dx\n",
    "\n",
    "A, b = assemble_system(a, L)"
   ]
  },
  {
   "cell_type": "code",
   "execution_count": 90,
   "metadata": {},
   "outputs": [
    {
     "name": "stdout",
     "output_type": "stream",
     "text": [
      "[[ 0.1875  0.0625 -0.0625  0.0625 -0.0625  0.0625 -0.1875 -0.0625]\n",
      " [ 0.0625  0.1875  0.0625 -0.0625  0.0625 -0.0625 -0.0625 -0.1875]\n",
      " [-0.0625  0.0625  0.1875  0.0625 -0.0625 -0.1875  0.0625 -0.0625]\n",
      " [ 0.0625 -0.0625  0.0625  0.1875 -0.1875 -0.0625 -0.0625  0.0625]\n",
      " [-0.0625  0.0625 -0.0625 -0.1875  0.1875  0.0625  0.0625 -0.0625]\n",
      " [ 0.0625 -0.0625 -0.1875 -0.0625  0.0625  0.1875 -0.0625  0.0625]\n",
      " [-0.1875 -0.0625  0.0625 -0.0625  0.0625 -0.0625  0.1875  0.0625]\n",
      " [-0.0625 -0.1875 -0.0625  0.0625 -0.0625  0.0625  0.0625  0.1875]]\n"
     ]
    }
   ],
   "source": [
    "print(A.array())"
   ]
  },
  {
   "cell_type": "code",
   "execution_count": 91,
   "metadata": {},
   "outputs": [
    {
     "name": "stdout",
     "output_type": "stream",
     "text": [
      "[ 0.125  0.125  0.125  0.125  0.125  0.125  0.125  0.125]\n"
     ]
    }
   ],
   "source": [
    "print(b.array())"
   ]
  },
  {
   "cell_type": "markdown",
   "metadata": {},
   "source": [
    "_____________\n",
    "Loading XDMF mesh file and solving Poisson's equation"
   ]
  },
  {
   "cell_type": "code",
   "execution_count": 92,
   "metadata": {},
   "outputs": [
    {
     "data": {
      "text/html": [
       "<!DOCTYPE html>\n",
       "<html>\n",
       "  <head>\n",
       "    <meta http-equiv=\"content-type\" content=\"text/html;charset=UTF-8\" />\n",
       "    <meta name=\"generator\" content=\"FEniCS/DOLFIN (http://fenicsproject.org)\" />\n",
       "    <title>FEniCS/DOLFIN X3DOM plot</title>\n",
       "    <script type=\"text/javascript\" src=\"https://www.x3dom.org/download/x3dom.js\"></script>\n",
       "    <script type=\"text/javascript\" src=\"https://code.jquery.com/jquery-3.1.0.js\"></script>\n",
       "    <script type=\"text/javascript\" src=\"https://rawgit.com/plscott/fenics-x3dom/master/x3dom_support.js\"></script>\n",
       "    <link rel=\"stylesheet\" type=\"text/css\" href=\"https://www.x3dom.org/download/x3dom.css\" />\n",
       "    <link rel=\"stylesheet\" type=\"text/css\" href=\"https://rawgit.com/plscott/fenics-x3dom/master/x3dom_support.css\" />\n",
       "  </head>\n",
       "  <body>\n",
       "    <x3d showStat=\"false\" xmlns=\"http://www.web3d.org/specifications/x3d-namespace\" width=\"500.000000px\" height=\"400.000000px\">\n",
       "      <scene>\n",
       "        <shape>\n",
       "          <appearance>\n",
       "            <material diffuseColor=\"1.000000 1.000000 1.000000\" emissiveColor=\"0.000000 0.000000 0.000000\" specularColor=\"0.000000 0.000000 0.000000\" ambientIntensity=\"0\" shininess=\"0.5\" transparency=\"0\"></material>\n",
       "          </appearance>\n",
       "          <indexedFaceSet solid=\"false\" colorPerVertex=\"true\" coordIndex=\"295 30 31 215 -1 281 320 567 232 -1 283 322 584 233 -1 603 210 359 241 -1 600 215 360 233 -1 217 410 654 361 -1 266 299 570 229 -1 306 569 576 382 -1 258 225 575 303 -1 379 263 341 468 -1 219 368 203 386 -1 336 252 589 301 -1 338 255 612 302 -1 315 557 231 543 -1 24 594 359 210 -1 31 593 360 215 -1 525 3 508 349 -1 144 344 498 143 -1 456 369 259 330 -1 461 664 244 510 -1 319 566 240 552 -1 385 257 648 329 -1 467 374 298 265 -1 93 94 488 348 -1 316 239 542 277 -1 555 217 361 273 -1 541 202 436 268 -1 617 215 600 234 -1 459 370 261 332 -1 589 252 384 221 -1 475 376 299 266 -1 476 377 300 267 -1 427 289 254 628 -1 53 347 443 52 -1 612 255 386 218 -1 98 99 500 351 -1 214 553 281 232 -1 409 393 260 463 -1 14 7 15 327 -1 415 334 251 293 -1 103 104 506 352 -1 226 392 200 380 -1 273 361 354 534 -1 58 350 448 57 -1 216 438 212 371 -1 211 439 207 372 -1 108 109 513 355 -1 321 241 562 282 -1 576 383 617 270 -1 225 380 200 545 -1 14 327 653 13 -1 63 353 451 62 -1 298 223 646 265 -1 457 309 259 369 -1 68 356 454 67 -1 218 386 203 526 -1 308 260 393 220 -1 458 1 36 387 -1 243 305 388 278 -1 342 553 214 565 -1 113 114 538 363 -1 214 232 563 360 -1 426 628 254 288 -1 650 298 399 304 -1 234 381 270 617 -1 283 233 360 563 -1 240 562 241 359 -1 73 362 464 72 -1 40 357 471 39 -1 81 358 473 80 -1 466 588 666 202 -1 652 409 205 572 -1 588 578 19 20 -1 246 309 408 310 -1 300 237 559 267 -1 210 661 23 24 -1 221 384 198 466 -1 437 498 344 272 -1 599 297 666 588 -1 349 534 247 312 -1 653 327 654 410 -1 151 369 456 150 -1 249 544 493 367 -1 220 307 406 308 -1 330 259 445 663 -1 196 197 494 367 -1 307 220 568 269 -1 599 588 20 21 -1 311 614 246 310 -1 469 323 263 379 -1 543 276 397 315 -1 500 398 316 277 -1 180 181 460 370 -1 318 639 462 317 -1 339 437 272 656 -1 201 640 354 411 -1 234 324 428 381 -1 346 539 207 634 -1 345 540 212 633 -1 565 593 31 32 -1 564 594 24 25 -1 341 263 657 262 -1 344 144 145 442 -1 552 280 401 319 -1 507 402 320 281 -1 348 444 92 93 -1 358 450 293 551 -1 390 274 347 487 -1 391 275 348 488 -1 324 234 600 285 -1 573 18 19 548 -1 409 204 453 393 -1 245 635 205 366 -1 312 247 614 311 -1 190 191 469 379 -1 249 323 423 544 -1 351 447 97 98 -1 351 546 314 447 -1 325 242 603 284 -1 347 570 299 443 -1 237 300 444 571 -1 344 442 303 575 -1 513 404 321 282 -1 514 405 322 283 -1 352 452 102 103 -1 574 265 646 222 -1 355 455 107 108 -1 367 493 195 196 -1 652 11 12 590 -1 357 40 41 449 -1 358 81 82 450 -1 558 345 633 228 -1 559 346 634 236 -1 363 465 112 113 -1 12 13 653 590 -1 369 151 152 457 -1 239 316 452 556 -1 353 557 315 451 -1 340 441 341 262 -1 397 276 350 499 -1 370 459 179 180 -1 395 256 650 304 -1 597 400 647 250 -1 598 403 649 251 -1 355 566 319 455 -1 356 567 320 454 -1 306 279 592 569 -1 586 266 558 228 -1 587 267 559 236 -1 379 468 189 190 -1 564 605 539 208 -1 345 213 606 540 -1 266 229 601 558 -1 401 280 352 506 -1 246 445 259 309 -1 295 665 29 30 -1 394 301 589 286 -1 132 374 467 131 -1 147 375 502 146 -1 648 256 395 329 -1 298 650 373 223 -1 148 474 375 147 -1 576 211 579 383 -1 650 256 648 373 -1 90 91 504 377 -1 656 224 648 257 -1 50 376 475 49 -1 89 90 377 476 -1 340 639 318 440 -1 362 584 322 464 -1 241 321 465 585 -1 583 269 568 219 -1 664 264 494 458 -1 34 35 326 667 -1 172 173 497 378 -1 171 172 378 477 -1 347 53 54 487 -1 374 132 133 481 -1 419 615 574 294 -1 535 429 324 285 -1 350 58 59 499 -1 458 494 197 1 -1 353 63 64 507 -1 396 302 612 289 -1 610 436 297 328 -1 0 382 381 428 -1 117 2 577 430 -1 335 253 541 287 -1 356 68 69 514 -1 424 619 586 290 -1 425 620 587 292 -1 509 660 5 8 -1 240 209 651 552 -1 370 317 462 261 -1 225 258 663 380 -1 392 201 411 533 -1 79 389 472 78 -1 376 50 51 503 -1 39 471 388 38 -1 80 473 389 79 -1 29 665 28 4 -1 18 573 625 17 -1 431 331 583 296 -1 362 73 74 535 -1 609 248 654 327 -1 277 542 238 546 -1 276 543 230 547 -1 56 512 390 55 -1 95 96 511 391 -1 55 390 487 54 -1 94 95 391 488 -1 651 209 594 564 -1 123 394 479 122 -1 5 660 326 35 -1 124 483 394 123 -1 432 284 363 538 -1 38 388 470 37 -1 23 582 599 22 -1 162 163 396 482 -1 393 453 568 220 -1 258 303 375 636 -1 163 164 489 396 -1 252 595 222 384 -1 388 471 357 278 -1 389 473 358 279 -1 449 484 414 291 -1 450 485 415 293 -1 60 397 499 59 -1 99 100 398 500 -1 61 518 397 60 -1 100 101 519 398 -1 269 627 378 307 -1 657 263 323 495 -1 21 6 22 599 -1 230 543 342 623 -1 238 542 343 624 -1 577 2 118 516 -1 134 399 481 133 -1 135 480 399 134 -1 647 227 591 550 -1 649 235 592 551 -1 260 261 462 463 -1 199 629 365 573 -1 105 106 522 401 -1 66 521 402 65 -1 224 656 272 549 -1 438 400 633 212 -1 439 403 634 207 -1 215 617 383 295 -1 104 105 401 506 -1 65 402 507 64 -1 564 343 542 651 -1 231 553 342 543 -1 333 250 647 291 -1 424 290 413 490 -1 425 292 416 491 -1 335 286 659 253 -1 109 110 404 513 -1 70 405 514 69 -1 260 308 407 596 -1 280 552 239 556 -1 281 553 231 557 -1 71 529 405 70 -1 110 111 530 404 -1 255 607 219 386 -1 422 486 419 294 -1 510 244 662 509 -1 173 174 406 497 -1 599 582 328 297 -1 174 175 496 406 -1 226 446 201 392 -1 154 408 505 153 -1 175 176 407 496 -1 436 610 337 268 -1 176 177 501 407 -1 336 294 595 252 -1 446 246 614 537 -1 155 515 408 154 -1 333 290 597 250 -1 334 292 598 251 -1 282 562 240 566 -1 283 563 232 567 -1 373 527 646 223 -1 43 414 484 42 -1 84 415 485 83 -1 122 479 417 121 -1 129 419 486 128 -1 44 613 414 43 -1 46 490 413 45 -1 85 86 491 416 -1 182 183 412 517 -1 45 413 613 44 -1 84 85 416 415 -1 121 417 618 120 -1 156 420 515 155 -1 125 421 483 124 -1 183 184 520 412 -1 130 615 419 129 -1 128 486 422 127 -1 577 287 541 268 -1 126 621 421 125 -1 127 422 621 126 -1 368 219 568 453 -1 47 424 490 46 -1 86 87 425 491 -1 161 162 482 427 -1 37 470 387 36 -1 160 161 427 628 -1 48 619 424 47 -1 87 88 620 425 -1 157 524 420 156 -1 168 169 431 492 -1 435 492 431 296 -1 245 528 206 635 -1 565 214 360 593 -1 240 359 594 209 -1 75 429 535 74 -1 164 165 434 489 -1 417 479 394 286 -1 385 329 608 637 -1 338 296 607 255 -1 438 227 647 400 -1 242 661 210 603 -1 169 170 622 431 -1 439 235 649 403 -1 192 193 423 523 -1 114 115 432 538 -1 575 225 545 549 -1 165 166 632 434 -1 167 168 492 435 -1 158 433 524 157 -1 166 167 435 632 -1 205 635 10 572 -1 120 618 418 119 -1 289 655 554 254 -1 458 387 305 580 -1 391 314 642 275 -1 3 525 433 158 -1 159 160 628 426 -1 453 204 590 368 -1 295 383 579 665 -1 382 0 77 478 -1 10 11 652 572 -1 237 602 346 559 -1 427 482 396 289 -1 297 436 202 666 -1 193 194 544 423 -1 76 536 429 75 -1 641 243 591 227 -1 395 626 608 329 -1 325 337 610 242 -1 143 498 437 142 -1 115 116 561 432 -1 439 211 576 569 -1 142 437 658 141 -1 638 364 578 198 -1 366 463 462 639 -1 382 478 472 306 -1 285 600 233 584 -1 146 502 442 145 -1 284 603 241 585 -1 52 443 503 51 -1 91 92 444 504 -1 331 627 269 583 -1 3 159 426 508 -1 184 185 440 520 -1 42 484 449 41 -1 83 485 450 82 -1 638 222 646 527 -1 185 186 644 440 -1 533 411 609 16 -1 186 187 441 644 -1 187 188 645 441 -1 119 418 516 118 -1 16 609 327 15 -1 96 97 447 511 -1 57 448 512 56 -1 466 253 659 221 -1 449 291 647 550 -1 251 649 551 293 -1 664 271 560 244 -1 629 224 549 545 -1 101 102 452 519 -1 62 451 518 61 -1 153 505 457 152 -1 249 264 664 461 -1 150 456 611 149 -1 0 428 536 76 -1 370 460 517 317 -1 438 216 641 227 -1 246 446 226 445 -1 67 454 521 66 -1 106 107 455 522 -1 254 555 273 288 -1 410 217 554 526 -1 558 601 213 345 -1 539 346 602 208 -1 349 508 426 288 -1 131 467 615 130 -1 249 367 494 264 -1 116 117 430 561 -1 178 179 459 616 -1 181 182 517 460 -1 49 475 619 48 -1 88 89 476 620 -1 72 464 529 71 -1 111 112 465 530 -1 28 665 372 27 -1 527 373 629 199 -1 149 611 474 148 -1 170 171 477 622 -1 547 313 512 448 -1 565 213 623 342 -1 564 208 624 343 -1 191 192 523 469 -1 136 630 480 135 -1 194 195 493 544 -1 188 189 468 645 -1 577 516 418 287 -1 614 247 640 537 -1 34 581 540 33 -1 371 212 540 581 -1 372 207 539 605 -1 648 224 629 373 -1 243 278 550 591 -1 461 510 635 206 -1 640 201 446 537 -1 449 550 278 357 -1 592 279 358 551 -1 354 248 609 411 -1 445 226 380 663 -1 578 588 466 198 -1 597 228 633 400 -1 598 236 634 403 -1 177 178 616 501 -1 467 265 574 615 -1 198 384 222 638 -1 526 554 655 218 -1 663 258 636 330 -1 8 9 510 509 -1 254 554 217 555 -1 442 502 375 303 -1 570 531 601 229 -1 571 532 602 237 -1 262 657 245 366 -1 268 337 430 577 -1 138 608 626 137 -1 660 509 662 326 -1 466 202 541 253 -1 354 361 654 248 -1 139 637 608 138 -1 475 266 586 619 -1 476 267 587 620 -1 399 298 374 481 -1 305 243 641 580 -1 443 299 376 503 -1 444 300 377 504 -1 288 273 534 349 -1 313 643 531 274 -1 571 275 642 532 -1 216 371 667 604 -1 500 277 546 351 -1 448 350 276 547 -1 366 639 340 262 -1 137 626 630 136 -1 549 272 344 575 -1 323 249 528 495 -1 16 17 625 533 -1 364 199 573 548 -1 533 625 200 392 -1 526 203 653 410 -1 140 631 637 139 -1 409 463 366 205 -1 531 570 347 274 -1 444 348 275 571 -1 78 472 478 77 -1 261 260 596 332 -1 141 658 631 140 -1 457 505 408 309 -1 406 307 378 497 -1 452 352 280 556 -1 507 281 557 353 -1 439 569 592 235 -1 513 282 566 355 -1 514 283 567 356 -1 576 270 381 382 -1 318 317 517 412 -1 542 239 552 651 -1 365 200 625 573 -1 385 339 656 257 -1 667 371 581 34 -1 26 27 372 605 -1 222 595 294 574 -1 274 390 512 313 -1 447 314 391 511 -1 279 306 472 389 -1 469 523 423 323 -1 604 560 641 216 -1 228 597 290 586 -1 236 598 292 587 -1 474 611 456 330 -1 211 372 665 579 -1 657 495 528 245 -1 200 365 629 545 -1 421 301 394 483 -1 535 285 584 362 -1 213 565 32 606 -1 26 605 564 25 -1 465 363 284 585 -1 451 315 397 518 -1 452 316 398 519 -1 249 461 206 528 -1 434 302 396 489 -1 219 607 296 583 -1 199 364 638 527 -1 501 616 459 332 -1 455 319 401 522 -1 454 320 402 521 -1 247 534 354 640 -1 332 596 407 501 -1 368 590 653 203 -1 630 304 399 480 -1 464 322 405 529 -1 465 321 404 530 -1 286 335 618 417 -1 604 662 244 560 -1 388 305 387 470 -1 301 421 621 336 -1 294 336 621 422 -1 291 414 613 333 -1 290 333 613 413 -1 292 334 415 416 -1 560 271 580 641 -1 364 548 19 578 -1 287 418 618 335 -1 409 652 590 204 -1 302 434 632 338 -1 406 496 407 308 -1 296 338 632 435 -1 331 477 378 627 -1 477 331 431 622 -1 328 582 23 661 -1 408 515 420 310 -1 631 658 437 339 -1 242 610 328 661 -1 440 318 412 520 -1 623 531 643 230 -1 624 532 642 238 -1 330 636 375 474 -1 32 33 540 606 -1 310 420 524 311 -1 312 311 524 433 -1 10 635 510 9 -1 440 644 441 340 -1 468 341 441 645 -1 286 589 221 659 -1 349 312 433 525 -1 313 547 230 643 -1 314 546 238 642 -1 532 624 208 602 -1 531 623 213 601 -1 284 432 561 325 -1 289 612 218 655 -1 429 536 428 324 -1 304 630 626 395 -1 337 325 561 430 -1 339 385 637 631 -1 664 458 580 271 -1 667 326 662 604 -1 \">\n",
       "            <coordinate point=\"-2.1 -0.9 0 -1.9 1.1 0 -0.1 -1.1 0 0 0.9 0 -3 -2 0 -3 2 0 1 -2 0 1 2 0 -2.5 2 0 -2 2 0 -1.5 2 0 -1 2 0 -0.5 2 0 -2.77423e-12 2 0 0.5 2 0 1 1.5 0 1 1 0 1 0.5 0 1 5.5056e-12 0 1 -0.5 0 1 -1 0 1 -1.5 0 0.5 -2 0 2.77411e-12 -2 0 -0.5 -2 0 -1 -2 0 -1.5 -2 0 -2 -2 0 -2.5 -2 0 -3 -1.5 0 -3 -1 0 -3 -0.5 0 -3 -5.5056e-12 0 -3 0.5 0 -3 1 0 -3 1.5 0 -1.90476 1.05238 0 -1.90952 1.00476 0 -1.91429 0.957143 0 -1.91905 0.909524 0 -1.92381 0.861905 0 -1.92857 0.814286 0 -1.93333 0.766667 0 -1.9381 0.719048 0 -1.94286 0.671429 0 -1.94762 0.62381 0 -1.95238 0.57619 0 -1.95714 0.528571 0 -1.9619 0.480952 0 -1.96667 0.433333 0 -1.97143 0.385714 0 -1.97619 0.338095 0 -1.98095 0.290476 0 -1.98571 0.242857 0 -1.99048 0.195238 0 -1.99524 0.147619 0 -2 0.1 0 -2.00476 0.052381 0 -2.00952 0.0047619 0 -2.01429 -0.0428571 0 -2.01905 -0.0904762 0 -2.02381 -0.138095 0 -2.02857 -0.185714 0 -2.03333 -0.233333 0 -2.0381 -0.280952 0 -2.04286 -0.328571 0 -2.04762 -0.37619 0 -2.05238 -0.42381 0 -2.05714 -0.471429 0 -2.0619 -0.519048 0 -2.06667 -0.566667 0 -2.07143 -0.614286 0 -2.07619 -0.661905 0 -2.08095 -0.709524 0 -2.08571 -0.757143 0 -2.09048 -0.804762 0 -2.09524 -0.852381 0 -2.05238 -0.904762 0 -2.00476 -0.909524 0 -1.95714 -0.914286 0 -1.90952 -0.919048 0 -1.8619 -0.92381 0 -1.81429 -0.928571 0 -1.76667 -0.933333 0 -1.71905 -0.938095 0 -1.67143 -0.942857 0 -1.62381 -0.947619 0 -1.57619 -0.952381 0 -1.52857 -0.957143 0 -1.48095 -0.961905 0 -1.43333 -0.966667 0 -1.38571 -0.971429 0 -1.3381 -0.97619 0 -1.29048 -0.980952 0 -1.24286 -0.985714 0 -1.19524 -0.990476 0 -1.14762 -0.995238 0 -1.1 -1 0 -1.05238 -1.00476 0 -1.00476 -1.00952 0 -0.957143 -1.01429 0 -0.909524 -1.01905 0 -0.861905 -1.02381 0 -0.814286 -1.02857 0 -0.766667 -1.03333 0 -0.719048 -1.0381 0 -0.671429 -1.04286 0 -0.62381 -1.04762 0 -0.57619 -1.05238 0 -0.528571 -1.05714 0 -0.480952 -1.0619 0 -0.433333 -1.06667 0 -0.385714 -1.07143 0 -0.338095 -1.07619 0 -0.290476 -1.08095 0 -0.242857 -1.08571 0 -0.195238 -1.09048 0 -0.147619 -1.09524 0 -0.097619 -1.05238 0 -0.0952381 -1.00476 0 -0.0928571 -0.957143 0 -0.0904762 -0.909524 0 -0.0880952 -0.861905 0 -0.0857143 -0.814286 0 -0.0833333 -0.766667 0 -0.0809524 -0.719048 0 -0.0785714 -0.671429 0 -0.0761905 -0.62381 0 -0.0738095 -0.57619 0 -0.0714286 -0.528571 0 -0.0690476 -0.480952 0 -0.0666667 -0.433333 0 -0.0642857 -0.385714 0 -0.0619048 -0.338095 0 -0.0595238 -0.290476 0 -0.0571429 -0.242857 0 -0.0547619 -0.195238 0 -0.052381 -0.147619 0 -0.05 -0.1 0 -0.047619 -0.052381 0 -0.0452381 -0.0047619 0 -0.0428571 0.0428571 0 -0.0404762 0.0904762 0 -0.0380952 0.138095 0 -0.0357143 0.185714 0 -0.0333333 0.233333 0 -0.0309524 0.280952 0 -0.0285714 0.328571 0 -0.0261905 0.37619 0 -0.0238095 0.42381 0 -0.0214286 0.471429 0 -0.0190476 0.519048 0 -0.0166667 0.566667 0 -0.0142857 0.614286 0 -0.0119048 0.661905 0 -0.00952381 0.709524 0 -0.00714286 0.757143 0 -0.0047619 0.804762 0 -0.00238095 0.852381 0 -0.0475 0.905 0 -0.095 0.91 0 -0.1425 0.915 0 -0.19 0.92 0 -0.2375 0.925 0 -0.285 0.93 0 -0.3325 0.935 0 -0.38 0.94 0 -0.4275 0.945 0 -0.475 0.95 0 -0.5225 0.955 0 -0.57 0.96 0 -0.6175 0.965 0 -0.665 0.97 0 -0.7125 0.975 0 -0.76 0.98 0 -0.8075 0.985 0 -0.855 0.99 0 -0.9025 0.995 0 -0.95 1 0 -0.9975 1.005 0 -1.045 1.01 0 -1.0925 1.015 0 -1.14 1.02 0 -1.1875 1.025 0 -1.235 1.03 0 -1.2825 1.035 0 -1.33 1.04 0 -1.3775 1.045 0 -1.425 1.05 0 -1.4725 1.055 0 -1.52 1.06 0 -1.5675 1.065 0 -1.615 1.07 0 -1.6625 1.075 0 -1.71 1.08 0 -1.7575 1.085 0 -1.805 1.09 0 -1.8525 1.095 0 0.391569 -0.710891 0 0.500736 -0.203491 0 0.495096 0.265995 0 0.450603 0.76176 0 0.282543 -1.11627 0 -0.274151 1.43715 0 -0.772935 1.54791 0 -1.29787 1.56845 0 -1.72477 1.52062 0 -1.76233 -1.50223 0 -1.22605 -1.49128 0 -0.717036 -1.4713 0 -0.351568 -1.5948 0 -2.09541 -1.4296 0 -2.497 0.769085 0 -2.51008 0.22226 0 -2.42649 -0.274059 0 -2.55719 -0.779865 0 -2.4011 1.08156 0 0.015853 1.25263 0 -0.238185 1.19441 0 -0.503538 1.24958 0 -0.758877 1.19045 0 0.187797 -0.839788 0 0.200537 -0.573773 0 0.174572 -0.340516 0 0.210833 -0.020958 0 0.225619 0.245089 0 0.331724 0.527058 0 -2.21067 0.930982 0 -2.22962 0.564737 0 -2.19397 0.355748 0 -2.23904 0.086898 0 -2.24964 -0.132634 0 -2.28861 -0.353802 0 -2.31545 -0.596802 0 -2.28868 -0.871705 0 -1.88847 -1.21751 0 -1.57748 -1.21078 0 -1.36254 -1.19874 0 -1.09047 -1.24162 0 -0.866163 -1.20895 0 -0.616537 -1.35675 0 -0.408878 -1.31488 0 -0.134588 -1.34674 0 -2.0952 1.01761 0 -2.13664 1.44574 0 -1.53393 1.43012 0 0.176828 0.647881 0 0.206268 0.88765 0 0.442503 1.22614 0 -1.7446 1.26431 0 -2.10771 0.714429 0 -1.73785 -1.10511 0 0.113142 -0.717242 0 0.146473 -0.974367 0 -0.0949946 1.07331 0 -0.364503 1.13828 0 0.10379 -0.188386 0 0.0975568 -0.0447605 0 0.141557 0.31035 0 0.103273 0.507113 0 -0.927981 1.18757 0 -1.02523 1.14651 0 -1.40852 1.23117 0 -1.52734 1.18512 0 -1.86066 1.2527 0 0.0870167 -0.449861 0 -2.13275 0.444871 0 -1.46442 -1.11779 0 0.0921206 -1.21037 0 -0.639115 1.13098 0 -2.26322 -1.03597 0 -2.0863 1.25609 0 0.0878387 0.0817181 0 0.0907297 1.08609 0 -2.11255 0.207673 0 -1.22786 -1.10242 0 -2.14299 0.00682943 0 -0.98713 -1.15843 0 -2.02974 0.946465 0 -1.96373 -1.02787 0 -0.773154 -1.15494 0 -2.20629 -0.271208 0 -0.512701 -1.19983 0 -2.22234 -0.513902 0 -0.270427 -1.21952 0 -2.22976 -0.73827 0 0.0241154 -0.895006 0 0.0162487 -1.06618 0 -0.00778854 1.01916 0 -0.188421 1.05283 0 -2.06469 0.616197 0 -2.03871 0.780144 0 -1.61671 -1.06261 0 -1.79275 -1.03972 0 0.0344217 -0.609341 0 -2.5813 -1.18778 0 -0.477956 1.06232 0 0.38233 -1.44223 0 0.0721941 -0.353726 0 -2.082 0.371124 0 -1.38507 -1.09144 0 0.00993862 -0.780746 0 -0.307329 1.02611 0 0.0780335 0.255147 0 0.0357897 -0.251878 0 -2.01723 1.0506 0 -2.03651 -1.03091 0 -0.716326 1.09463 0 -0.83 1.11117 0 0.0901929 0.5881 0 0.0900231 0.696999 0 0.100896 0.781908 0 0.101674 0.870566 0 -2.12214 0.142949 0 -1.12982 -1.10442 0 -2.14976 -0.099166 0 -0.904798 -1.13032 0 -1.14623 1.12927 0 -1.2345 1.12862 0 -0.671556 -1.17047 0 -2.15207 -0.345184 0 -0.438067 -1.19217 0 -2.1791 -0.582135 0 -1.6196 1.19654 0 -2.20411 -0.822263 0 -0.158614 -1.23002 0 -2.70393 1.49336 0 0.491435 1.56494 0 0.137598 -1.52034 0 0.0569708 -0.117339 0 0.0795193 0.411243 0 -0.583683 1.05102 0 -0.97107 1.08983 0 -2.04362 0.702121 0 -1.69659 -1.05456 0 0.0209707 -0.981421 0 0.0239543 -0.700451 0 -0.0442312 -1.236 0 -0.38745 1.04531 0 0.0374421 0.000466131 0 -1.34621 1.14821 0 -1.4483 1.14755 0 -2.40704 -0.0205175 0 -1.03065 -1.42623 0 0.0414516 0.159098 0 -2.44632 0.459378 0 -1.47912 -1.38626 0 -2.05855 0.274188 0 -1.26983 -1.04466 0 0.0589594 0.94969 0 -2.06766 0.0211023 0 -1.05127 -1.07164 0 -0.796999 -1.10128 0 -2.09991 -0.200565 0 0.370881 1.07287 0 -0.581325 -1.12135 0 -2.12158 -0.443966 0 -1.98148 0.895872 0 -1.89551 -0.992534 0 -0.51399 -1.47716 0 -2.46405 -0.492573 0 0.202746 1.21141 0 -2.14673 -0.680518 0 -0.316209 -1.14147 0 0.564904 -0.453586 0 0.543615 0.116001 0 -1.32465 1.35389 0 -1.79515 1.1638 0 -0.518852 1.46925 0 0.0345311 0.50666 0 -1.06453 1.07873 0 -2.58975 0.984957 0 -1.94819 -1.68469 0 0.234542 -0.241486 0 -0.0041333 -0.385794 0 0.0294085 0.304765 0 -2.02337 0.403007 0 -1.41354 -1.02714 0 -0.6778 1.03276 0 -1.52858 1.11743 0 0.307979 0.358723 0 -2.213 -0.940789 0 -2.13391 -0.990427 0 -2.39671 -1.24881 0 0.230528 -0.713029 0 0.0402274 -0.0563203 0 -0.351064 1.26046 0 -1.95921 1.08303 0 -1.97422 0.98562 0 -1.96904 -0.966529 0 -2.04899 0.173421 0 -1.18136 -1.05324 0 0.500548 0.554891 0 -0.848087 1.3226 0 -0.0308814 -0.828694 0 0.0402101 -0.186165 0 -0.248629 0.985134 0 -2.07849 -0.0599557 0 -0.935353 -1.07056 0 0.00168167 -0.308003 0 -2.25838 0.741291 0 -0.708364 -1.10267 0 -2.0953 -0.305609 0 -1.74572 -1.26089 0 -0.460296 -1.12004 0 -2.11903 -0.544002 0 -0.769676 1.04496 0 -0.8706 1.05665 0 0.0434564 0.648135 0 -1.02925 1.5233 0 0.0326991 1.42628 0 0.560643 0.939606 0 -1.20551 1.08037 0 -1.99658 0.630586 0 -1.98813 0.748098 0 -1.73522 -0.995971 0 -1.65269 -0.99623 0 -0.041003 -0.91282 0 -0.0446454 -1.03116 0 -0.020236 -0.557873 0 0.0428315 0.731755 0 -0.0376096 -0.74457 0 -0.0290998 -0.627553 0 -1.65889 1.12825 0 -2.00906 0.560241 0 -1.58058 -1.00455 0 -0.0376341 0.957834 0 -0.157501 0.974366 0 -2.16304 -0.872994 0 -2.14473 -0.802924 0 -0.104013 -1.15526 0 -0.530551 1.00972 0 -0.239326 -1.14322 0 0.0446734 0.854217 0 -0.329527 0.977796 0 -0.445672 0.996559 0 0.236912 -1.31271 0 0.0188366 0.0581222 0 -2.34727 0.886294 0 -1.92039 -1.35932 0 -1.29556 1.09179 0 -1.38771 1.10022 0 0.023346 0.229713 0 -2.03971 0.325367 0 -1.32537 -1.03971 0 0.200055 0.522248 0 0.315435 0.67017 0 -1.10656 -1.05242 0 -2.06998 0.0680459 0 -1.98942 0.83741 0 -1.82072 -0.982456 0 -2.08828 -0.147551 0 -0.850823 -1.09008 0 -0.681301 1.39086 0 -2.11008 -0.38867 0 -0.631083 -1.10547 0 0.0248519 0.445314 0 0.0321493 0.567721 0 -1.95073 1.1645 0 -1.00253 1.05342 0 -1.10368 1.05443 0 -1.84581 1.44507 0 -1.13691 1.22845 0 -1.1149 1.32985 0 -2.13629 -0.626884 0 -0.372505 -1.1352 0 0.322331 -0.917331 0 0.00147754 -0.445806 0 -1.4694 1.10081 0 -1.58589 1.12148 0 -1.94765 1.02447 0 -1.95825 0.930339 0 -2.02016 -0.964995 0 -1.92469 -0.95937 0 0.0226074 0.376801 0 -2.03188 0.451554 0 -1.47143 -1.03145 0 -0.612529 1.01054 0 -2.06882 -0.953395 0 -0.0533266 -0.867806 0 -0.0234035 -0.257295 0 -0.0218131 -0.345116 0 -0.197959 0.958949 0 -0.0506081 -0.779977 0 -1.97029 0.784058 0 -1.78035 -0.969004 0 -0.0419845 -0.586389 0 -2.03267 0.214282 0 -1.23144 -1.02849 0 -0.28795 0.96426 0 -1.98541 0.588737 0 -1.61903 -0.9828 0 -0.483741 0.985425 0 -1.75641 1.12633 0 -1.86828 1.16734 0 -1.57928 1.28456 0 -0.816096 1.02765 0 -0.72076 1.01729 0 0.00739767 0.118439 0 -2.05348 -0.0272369 0 -0.993106 -1.07638 0 -0.928651 1.04393 0 0.00726738 0.27181 0 -2.01309 0.35549 0 -1.37487 -1.01276 0 0.02044 0.610047 0 -0.757343 -1.07909 0 -2.10229 -0.261184 0 0.00710841 0.935841 0 -2.30024 1.72965 0 -1.99812 1.67968 0 -1.14513 -1.03361 0 -2.05685 0.123188 0 -0.518042 -1.12175 0 -2.12241 -0.500677 0 0.025588 0.696472 0 -0.0606008 -1.07662 0 -1.14886 1.07143 0 -2.06353 -0.115201 0 -0.898567 -1.05989 0 -1.24536 1.06738 0 -2.08433 -0.356823 0 -0.669257 -1.08332 0 -1.61993 1.10658 0 0.0459096 0.79316 0 0.0340153 0.901279 0 -0.148212 1.31327 0 0.319078 -0.381936 0 -1.6374 1.38012 0 -2.10892 -0.595057 0 -0.422045 -1.1073 0 -2.2244 0.225722 0 -1.23337 -1.2522 0 0.697688 0.722537 0 0.181212 0.999955 0 -2.15066 -0.742959 0 -2.13406 -0.842329 0 0.281711 0.78003 0 -0.281396 -1.12326 0 -1.46796 -1.55771 0 -2.69057 0.568019 0 0.134077 -1.09001 0 -0.976709 -1.28592 0 -2.24776 -0.0257236 0 -1.71685 1.14829 0 0.326463 0.126873 0 -1.06467 -1.14403 0 -2.15187 0.0747796 0 0.768738 -0.275734 0 0.1862 0.0925369 0 -2.06935 0.880568 0 -1.85949 -1.08222 0 -0.758259 -1.25973 0 -2.32273 -0.177015 0 -0.104289 1.18812 0 0.00386271 1.13734 0 -0.828856 -1.15487 0 -2.17931 -0.170447 0 -2.28068 0.43967 0 -1.47089 -1.22839 0 -2.23942 1.29729 0 -0.173912 -1.15114 0 -0.511591 -1.28983 0 -2.325 -0.453426 0 -0.950535 -1.63356 0 -2.62915 -0.0634605 0 -0.600927 -1.20681 0 -2.19639 -0.415087 0 -0.642818 1.24377 0 -2.01651 -1.20908 0 -2.13973 0.306696 0 -1.29007 -1.13998 0 -1.23105 1.75023 0 0.735185 0.117043 0 0.081408 -0.537101 0 0.128794 0.185772 0 -2.18575 -1.18365 0 -0.0395379 -1.14633 0 0.638931 -0.67162 0 -2.28013 -1.51169 0 -2.05779 1.14063 0 -2.76035 0.851949 0 0.263599 -1.73103 0 -0.552668 1.12245 0 -2.21954 -0.648442 0 -0.345816 -1.22344 0 -2.11399 0.533418 0 -1.54681 -1.10261 0 0.616387 -1.09107 0 0.0824848 -0.816787 0 -0.650669 1.7305 0 -2.12968 0.94411 0 -1.9429 -1.13069 0 -2.69773 -0.352011 0 -0.670689 -1.64963 0 0.116187 -0.63403 0 -0.923193 1.11093 0 -2.16385 0.650459 0 -1.65833 -1.16105 0 0.655878 -1.67144 0 -2.34525 -0.739987 0 -2.33769 0.306222 0 -1.3253 -1.3341 0 -0.291448 -1.36398 0 -2.44325 1.28969 0 -1.36208 -1.74433 0 -2.73506 0.257239 0 -0.448666 1.15006 0 -0.00722463 -0.117246 0 0.623645 1.18267 0 0.0386168 -1.35311 0 0.0076922 0.415006 0 -0.268921 1.09912 0 -1.99207 0.688542 0 0.189223 0.773387 0 -0.00187336 -0.506523 0 -0.960393 1.03245 0 -2.39026 -0.985112 0 -0.0409098 -0.97206 0 -2.02907 0.507221 0 -1.5298 -1.02096 0 -0.0303316 -0.686001 0 -0.571133 0.993366 0 -2.34514 0.128591 0 -1.15047 -1.3635 0 0.723306 0.406501 0 -0.00996532 -0.168742 0 -0.633682 1.07052 0 -0.101123 0.970691 0 0.388063 -0.0761688 0 -0.0130853 -0.218288 0 -0.00615077 -0.00834975 0 -0.389115 0.986886 0 -2.35794 0.633458 0 -1.64116 -1.34004 0 -1.68703 1.71106 0 0.0830734 0.341849 0 -0.00519175 -0.0585743 0 0.369354 -0.540105 0 -1.26094 1.21449 0 0.345019 0.898934 0 -2.19843 1.10146 0 -1.16762 -1.17441 0 -2.19335 0.153594 0 -1.33831 1.07704 0 -1.42823 1.08328 0 0.202037 -0.439396 0 -2.13731 0.806153 0 0.160532 -0.105759 0 -1.80681 -1.16594 0 0.122352 -0.266077 0 -0.860435 -1.40885 0 -0.97774 1.75101 0 -0.0760587 1.65529 0 0.326061 1.41899 0 -0.176965 1.14512 0 0.109215 0.00577768 0 -1.51236 1.28156 0 -0.010542 0.030119 0 0.115223 -0.906759 0 -2.66806 1.741 0 -0.0871395 -1.61547 0 -2.37782 1.48197 0 0.18162 0.400657 0 -1.97034 1.33795 0 -2.34403 -1.7318 0 0.427723 -1.21197 0 -2.69431 1.21843 0 \"></coordinate>\n",
       "            <metadata min_value=\"0.000000\" max_value=\"1.745518\" color_map=\"0.000000 0.000000 1.000000 0.000000 0.000062 0.999908 0.000002 0.000246 0.999635 0.000006 0.000554 0.999183 0.000015 0.000984 0.998554 0.000030 0.001537 0.997753 0.000051 0.002213 0.996781 0.000081 0.003012 0.995642 0.000121 0.003933 0.994339 0.000171 0.004976 0.992873 0.000234 0.006142 0.991248 0.000311 0.007429 0.989467 0.000402 0.008839 0.987532 0.000510 0.010369 0.985446 0.000635 0.012021 0.983211 0.000778 0.013793 0.980831 0.000942 0.015686 0.978308 0.001126 0.017699 0.975644 0.001332 0.019831 0.972843 0.001562 0.022084 0.969907 0.001816 0.024455 0.966837 0.002096 0.026944 0.963638 0.002402 0.029552 0.960311 0.002737 0.032277 0.956860 0.003099 0.035119 0.953285 0.003492 0.038077 0.949591 0.003916 0.041152 0.945780 0.004371 0.044342 0.941853 0.004859 0.047646 0.937814 0.005382 0.051065 0.933664 0.005939 0.054597 0.929407 0.006531 0.058242 0.925044 0.007161 0.061999 0.920579 0.007828 0.065868 0.916013 0.008533 0.069847 0.911348 0.009278 0.073936 0.906588 0.010063 0.078134 0.901734 0.010890 0.082441 0.896788 0.011758 0.086855 0.891754 0.012668 0.091375 0.886632 0.013623 0.096002 0.881426 0.014621 0.100733 0.876138 0.015665 0.105568 0.870769 0.016754 0.110507 0.865323 0.017890 0.115547 0.859800 0.019073 0.120688 0.854204 0.020304 0.125930 0.848537 0.021583 0.131270 0.842800 0.022912 0.136708 0.836996 0.024291 0.142243 0.831126 0.025720 0.147874 0.825194 0.027200 0.153600 0.819200 0.028732 0.159419 0.813147 0.030316 0.165331 0.807038 0.031953 0.171333 0.800873 0.033643 0.177426 0.794655 0.035387 0.183607 0.788386 0.037185 0.189875 0.782068 0.039039 0.196230 0.775703 0.040947 0.202670 0.769292 0.042911 0.209193 0.762838 0.044932 0.215798 0.756343 0.047009 0.222484 0.749808 0.049143 0.229250 0.743235 0.051335 0.236093 0.736626 0.053584 0.243013 0.729983 0.055891 0.250008 0.723307 0.058257 0.257077 0.716601 0.060681 0.264217 0.709867 0.063165 0.271428 0.703105 0.065708 0.278709 0.696318 0.068311 0.286056 0.689507 0.070973 0.293470 0.682674 0.073695 0.300947 0.675821 0.076478 0.308487 0.668950 0.079321 0.316088 0.662061 0.082225 0.323748 0.655157 0.085190 0.331466 0.648240 0.088216 0.339239 0.641310 0.091302 0.347066 0.634370 0.094450 0.354946 0.627420 0.097660 0.362876 0.620464 0.100930 0.370854 0.613501 0.104262 0.378879 0.606534 0.107656 0.386949 0.599564 0.111111 0.395062 0.592593 0.114628 0.403216 0.585621 0.118206 0.411408 0.578651 0.121845 0.419638 0.571684 0.125546 0.427903 0.564721 0.129309 0.436202 0.557764 0.133132 0.444531 0.550814 0.137017 0.452889 0.543872 0.140963 0.461274 0.536940 0.144970 0.469685 0.530019 0.149038 0.478117 0.523110 0.153167 0.486571 0.516215 0.157356 0.495043 0.509335 0.161605 0.503531 0.502470 0.165914 0.512033 0.495624 0.170283 0.520546 0.488796 0.174712 0.529069 0.481987 0.179200 0.537600 0.475200 0.183747 0.546135 0.468435 0.188353 0.554673 0.461693 0.193017 0.563212 0.454975 0.197740 0.571748 0.448283 0.202520 0.580279 0.441618 0.207358 0.588804 0.434981 0.212252 0.597319 0.428372 0.217203 0.605823 0.421793 0.222211 0.614312 0.415245 0.227274 0.622784 0.408728 0.232392 0.631237 0.402245 0.237566 0.639668 0.395796 0.242793 0.648074 0.389381 0.248075 0.656453 0.383002 0.253410 0.664803 0.376660 0.258797 0.673120 0.370355 0.264237 0.681402 0.364089 0.269729 0.689647 0.357862 0.275271 0.697851 0.351676 0.280864 0.706012 0.345530 0.286507 0.714127 0.339426 0.292199 0.722193 0.333366 0.297940 0.730207 0.327348 0.303729 0.738168 0.321375 0.309565 0.746071 0.315447 0.315447 0.753914 0.309565 0.321375 0.761694 0.303729 0.327348 0.769408 0.297940 0.333366 0.777053 0.292199 0.339426 0.784627 0.286507 0.345530 0.792126 0.280864 0.351676 0.799547 0.275271 0.357862 0.806887 0.269729 0.364089 0.814143 0.264237 0.370355 0.821313 0.258797 0.376660 0.828392 0.253410 0.383002 0.835378 0.248075 0.389381 0.842268 0.242793 0.395796 0.849058 0.237566 0.402245 0.855746 0.232392 0.408728 0.862328 0.227274 0.415245 0.868801 0.222211 0.421793 0.875161 0.217203 0.428372 0.881406 0.212252 0.434981 0.887531 0.207358 0.441618 0.893535 0.202520 0.448283 0.899413 0.197740 0.454975 0.905162 0.193017 0.461693 0.910778 0.188353 0.468435 0.916259 0.183747 0.475200 0.921600 0.179200 0.481987 0.926799 0.174712 0.488796 0.931851 0.170283 0.495624 0.936754 0.165914 0.502470 0.941503 0.161605 0.509335 0.946096 0.157356 0.516215 0.950528 0.153167 0.523110 0.954797 0.149038 0.530019 0.958898 0.144970 0.536940 0.962827 0.140963 0.543872 0.966582 0.137017 0.550814 0.970158 0.133132 0.557764 0.973552 0.129309 0.564721 0.976759 0.125546 0.571684 0.979777 0.121845 0.578651 0.982602 0.118206 0.585621 0.985229 0.114628 0.592593 0.987654 0.111111 0.599564 0.989875 0.107656 0.606534 0.991887 0.104262 0.613501 0.993686 0.100930 0.620464 0.995268 0.097660 0.627420 0.996630 0.094450 0.634370 0.997767 0.091302 0.641310 0.998675 0.088216 0.648240 0.999351 0.085190 0.655157 0.999790 0.082225 0.662061 0.999988 0.079321 0.668950 0.999942 0.076478 0.675821 0.999646 0.073695 0.682674 0.999098 0.070973 0.689507 0.998292 0.068311 0.696318 0.997226 0.065708 0.703105 0.995893 0.063165 0.709867 0.994291 0.060681 0.716601 0.992415 0.058257 0.723307 0.990261 0.055891 0.729983 0.987825 0.053584 0.736626 0.985101 0.051335 0.743235 0.982087 0.049143 0.749808 0.978777 0.047009 0.756343 0.975167 0.044932 0.762838 0.971253 0.042911 0.769292 0.967030 0.040947 0.775703 0.962494 0.039039 0.782068 0.957641 0.037185 0.788386 0.952466 0.035387 0.794655 0.946964 0.033643 0.800873 0.941131 0.031953 0.807038 0.934962 0.030316 0.813147 0.928454 0.028732 0.819200 0.921600 0.027200 0.825194 0.914397 0.025720 0.831126 0.906840 0.024291 0.836996 0.898924 0.022912 0.842800 0.890645 0.021583 0.848537 0.881998 0.020304 0.854204 0.872978 0.019073 0.859800 0.863580 0.017890 0.865323 0.853800 0.016754 0.870769 0.843633 0.015665 0.876138 0.833074 0.014621 0.881426 0.822118 0.013623 0.886632 0.810760 0.012668 0.891754 0.798995 0.011758 0.896788 0.786820 0.010890 0.901734 0.774227 0.010063 0.906588 0.761213 0.009278 0.911348 0.747773 0.008533 0.916013 0.733901 0.007828 0.920579 0.719593 0.007161 0.925044 0.704843 0.006531 0.929407 0.689647 0.005939 0.933664 0.673999 0.005382 0.937814 0.657894 0.004859 0.941853 0.641328 0.004371 0.945780 0.624294 0.003916 0.949591 0.606788 0.003492 0.953285 0.588804 0.003099 0.956860 0.570338 0.002737 0.960311 0.551383 0.002402 0.963638 0.531936 0.002096 0.966837 0.511990 0.001816 0.969907 0.491539 0.001562 0.972843 0.470580 0.001332 0.975644 0.449106 0.001126 0.978308 0.427112 0.000942 0.980831 0.404593 0.000778 0.983211 0.381543 0.000635 0.985446 0.357956 0.000510 0.987532 0.333828 0.000402 0.989467 0.309152 0.000311 0.991248 0.283924 0.000234 0.992873 0.258137 0.000171 0.994339 0.231786 0.000121 0.995642 0.204865 0.000081 0.996781 0.177370 0.000051 0.997753 0.149293 0.000030 0.998554 0.120631 0.000015 0.999183 0.091375 0.000006 0.999635 0.061523 0.000002 0.999908 0.031066 0.000000 1.000000 0.000000 0.000000 \" indices=\"141 171 173 154 0 0 0 0 107 185 236 254 237 189 110 0 0 0 0 0 0 0 108 187 237 255 239 190 112 0 0 0 0 0 0 0 159 150 144 139 134 130 126 123 120 117 115 112 110 108 107 105 103 102 101 100 99 98 97 97 96 96 96 96 97 97 98 99 100 102 104 106 109 112 116 121 128 155 166 175 183 190 196 203 208 214 219 223 228 231 235 238 241 244 246 248 249 250 251 251 251 251 251 250 248 246 244 242 239 236 232 228 223 218 212 205 197 187 161 153 147 142 137 134 130 127 125 122 120 118 116 115 113 112 111 110 109 108 108 107 107 107 107 107 108 108 109 110 111 112 114 116 118 120 123 126 130 136 142 169 178 186 193 200 206 211 216 221 225 229 233 236 239 242 244 246 248 249 249 250 250 250 249 248 247 245 243 240 237 234 230 226 221 216 210 203 195 186 98 77 79 95 126 213 248 246 212 212 249 246 222 170 84 72 79 77 108 175 205 231 245 123 110 105 100 101 100 123 104 100 92 91 91 96 115 192 226 241 251 251 241 225 194 140 159 229 117 129 111 206 118 209 122 134 184 217 106 105 106 113 250 250 238 229 189 112 105 234 156 239 130 158 105 157 99 247 95 252 139 177 248 93 234 99 209 110 137 154 168 196 115 125 221 201 120 85 227 122 110 104 239 130 210 107 109 150 165 243 247 117 124 130 139 98 250 95 251 249 246 244 96 227 103 220 119 193 65 110 162 106 111 235 250 120 212 145 124 176 218 106 242 235 81 252 107 83 235 102 245 152 97 251 249 96 117 239 99 136 186 235 80 147 109 214 71 72 243 197 234 115 250 77 195 100 113 109 107 237 240 229 98 130 146 118 114 106 218 160 146 174 100 248 83 249 134 108 202 96 251 110 109 246 97 210 230 103 245 248 122 252 177 83 247 117 124 207 216 141 155 119 128 129 122 216 113 223 169 190 128 121 180 231 204 141 211 223 141 107 107 192 244 239 108 104 242 110 107 250 98 131 196 96 250 243 98 242 113 118 171 250 249 197 249 250 106 221 114 114 234 223 152 140 165 181 111 108 233 236 154 137 110 112 195 131 127 201 120 101 246 206 115 220 227 203 184 224 246 243 107 97 251 249 109 105 239 120 248 96 159 140 183 249 99 234 101 125 163 249 96 251 246 97 244 220 134 150 197 96 219 105 226 95 247 58 140 114 126 115 210 237 54 143 252 91 208 93 251 96 40 102 131 193 248 87 189 172 250 94 97 234 139 193 234 91 253 57 240 96 240 175 101 244 247 46 115 105 149 169 64 144 154 46 146 233 105 218 109 227 76 129 245 131 183 50 245 117 249 112 218 77 101 89 244 213 108 246 44 225 108 78 170 112 207 120 123 116 250 108 147 111 228 125 233 86 250 50 108 238 181 87 109 107 218 96 222 218 109 107 96 245 113 135 249 95 242 237 106 122 103 202 106 251 252 197 134 197 105 230 107 132 73 193 123 107 178 139 109 63 \"></metadata>\n",
       "          </indexedFaceSet>\n",
       "        </shape>\n",
       "        <shape>\n",
       "          <appearance>\n",
       "            <material emissiveColor=\"0.000000 0.000000 0.000000\" specularColor=\"0.000000 0.000000 0.000000\" ambientIntensity=\"0\" shininess=\"0.5\" transparency=\"0\"></material>\n",
       "          </appearance>\n",
       "          <indexedLineSet solid=\"false\" colorPerVertex=\"false\" coordIndex=\"0 76 -1 0 77 -1 0 382 -1 0 428 -1 1 36 -1 1 197 -1 1 458 -1 2 117 -1 2 118 -1 2 577 -1 3 158 -1 3 159 -1 3 508 -1 3 525 -1 4 28 -1 4 29 -1 5 8 -1 5 35 -1 5 660 -1 6 21 -1 6 22 -1 7 14 -1 7 15 -1 8 9 -1 8 509 -1 9 10 -1 9 510 -1 10 11 -1 10 572 -1 10 635 -1 11 12 -1 11 652 -1 12 13 -1 12 590 -1 13 14 -1 13 653 -1 14 327 -1 15 16 -1 15 327 -1 16 17 -1 16 533 -1 16 609 -1 17 18 -1 17 625 -1 18 19 -1 18 573 -1 19 20 -1 19 548 -1 19 578 -1 20 21 -1 20 588 -1 21 599 -1 22 23 -1 22 599 -1 23 24 -1 23 582 -1 23 661 -1 24 25 -1 24 210 -1 24 594 -1 25 26 -1 25 564 -1 26 27 -1 26 605 -1 27 28 -1 27 372 -1 28 665 -1 29 30 -1 29 665 -1 30 31 -1 30 295 -1 31 32 -1 31 215 -1 31 593 -1 32 33 -1 32 565 -1 32 606 -1 33 34 -1 33 540 -1 34 35 -1 34 581 -1 34 667 -1 35 326 -1 36 37 -1 36 387 -1 37 38 -1 37 470 -1 38 39 -1 38 388 -1 39 40 -1 39 471 -1 40 41 -1 40 357 -1 41 42 -1 41 449 -1 42 43 -1 42 484 -1 43 44 -1 43 414 -1 44 45 -1 44 613 -1 45 46 -1 45 413 -1 46 47 -1 46 490 -1 47 48 -1 47 424 -1 48 49 -1 48 619 -1 49 50 -1 49 475 -1 50 51 -1 50 376 -1 51 52 -1 51 503 -1 52 53 -1 52 443 -1 53 54 -1 53 347 -1 54 55 -1 54 487 -1 55 56 -1 55 390 -1 56 57 -1 56 512 -1 57 58 -1 57 448 -1 58 59 -1 58 350 -1 59 60 -1 59 499 -1 60 61 -1 60 397 -1 61 62 -1 61 518 -1 62 63 -1 62 451 -1 63 64 -1 63 353 -1 64 65 -1 64 507 -1 65 66 -1 65 402 -1 66 67 -1 66 521 -1 67 68 -1 67 454 -1 68 69 -1 68 356 -1 69 70 -1 69 514 -1 70 71 -1 70 405 -1 71 72 -1 71 529 -1 72 73 -1 72 464 -1 73 74 -1 73 362 -1 74 75 -1 74 535 -1 75 76 -1 75 429 -1 76 536 -1 77 78 -1 77 478 -1 78 79 -1 78 472 -1 79 80 -1 79 389 -1 80 81 -1 80 473 -1 81 82 -1 81 358 -1 82 83 -1 82 450 -1 83 84 -1 83 485 -1 84 85 -1 84 415 -1 85 86 -1 85 416 -1 86 87 -1 86 491 -1 87 88 -1 87 425 -1 88 89 -1 88 620 -1 89 90 -1 89 476 -1 90 91 -1 90 377 -1 91 92 -1 91 504 -1 92 93 -1 92 444 -1 93 94 -1 93 348 -1 94 95 -1 94 488 -1 95 96 -1 95 391 -1 96 97 -1 96 511 -1 97 98 -1 97 447 -1 98 99 -1 98 351 -1 99 100 -1 99 500 -1 100 101 -1 100 398 -1 101 102 -1 101 519 -1 102 103 -1 102 452 -1 103 104 -1 103 352 -1 104 105 -1 104 506 -1 105 106 -1 105 401 -1 106 107 -1 106 522 -1 107 108 -1 107 455 -1 108 109 -1 108 355 -1 109 110 -1 109 513 -1 110 111 -1 110 404 -1 111 112 -1 111 530 -1 112 113 -1 112 465 -1 113 114 -1 113 363 -1 114 115 -1 114 538 -1 115 116 -1 115 432 -1 116 117 -1 116 561 -1 117 430 -1 118 119 -1 118 516 -1 119 120 -1 119 418 -1 120 121 -1 120 618 -1 121 122 -1 121 417 -1 122 123 -1 122 479 -1 123 124 -1 123 394 -1 124 125 -1 124 483 -1 125 126 -1 125 421 -1 126 127 -1 126 621 -1 127 128 -1 127 422 -1 128 129 -1 128 486 -1 129 130 -1 129 419 -1 130 131 -1 130 615 -1 131 132 -1 131 467 -1 132 133 -1 132 374 -1 133 134 -1 133 481 -1 134 135 -1 134 399 -1 135 136 -1 135 480 -1 136 137 -1 136 630 -1 137 138 -1 137 626 -1 138 139 -1 138 608 -1 139 140 -1 139 637 -1 140 141 -1 140 631 -1 141 142 -1 141 658 -1 142 143 -1 142 437 -1 143 144 -1 143 498 -1 144 145 -1 144 344 -1 145 146 -1 145 442 -1 146 147 -1 146 502 -1 147 148 -1 147 375 -1 148 149 -1 148 474 -1 149 150 -1 149 611 -1 150 151 -1 150 456 -1 151 152 -1 151 369 -1 152 153 -1 152 457 -1 153 154 -1 153 505 -1 154 155 -1 154 408 -1 155 156 -1 155 515 -1 156 157 -1 156 420 -1 157 158 -1 157 524 -1 158 433 -1 159 160 -1 159 426 -1 160 161 -1 160 628 -1 161 162 -1 161 427 -1 162 163 -1 162 482 -1 163 164 -1 163 396 -1 164 165 -1 164 489 -1 165 166 -1 165 434 -1 166 167 -1 166 632 -1 167 168 -1 167 435 -1 168 169 -1 168 492 -1 169 170 -1 169 431 -1 170 171 -1 170 622 -1 171 172 -1 171 477 -1 172 173 -1 172 378 -1 173 174 -1 173 497 -1 174 175 -1 174 406 -1 175 176 -1 175 496 -1 176 177 -1 176 407 -1 177 178 -1 177 501 -1 178 179 -1 178 616 -1 179 180 -1 179 459 -1 180 181 -1 180 370 -1 181 182 -1 181 460 -1 182 183 -1 182 517 -1 183 184 -1 183 412 -1 184 185 -1 184 520 -1 185 186 -1 185 440 -1 186 187 -1 186 644 -1 187 188 -1 187 441 -1 188 189 -1 188 645 -1 189 190 -1 189 468 -1 190 191 -1 190 379 -1 191 192 -1 191 469 -1 192 193 -1 192 523 -1 193 194 -1 193 423 -1 194 195 -1 194 544 -1 195 196 -1 195 493 -1 196 197 -1 196 367 -1 197 494 -1 198 384 -1 198 466 -1 198 578 -1 198 638 -1 199 364 -1 199 527 -1 199 573 -1 199 629 -1 200 365 -1 200 380 -1 200 392 -1 200 545 -1 200 625 -1 201 392 -1 201 411 -1 201 446 -1 201 640 -1 202 436 -1 202 466 -1 202 541 -1 202 666 -1 203 368 -1 203 386 -1 203 526 -1 203 653 -1 204 409 -1 204 453 -1 204 590 -1 205 366 -1 205 409 -1 205 572 -1 205 635 -1 206 461 -1 206 528 -1 206 635 -1 207 372 -1 207 439 -1 207 539 -1 207 634 -1 208 539 -1 208 564 -1 208 602 -1 208 624 -1 209 240 -1 209 594 -1 209 651 -1 210 359 -1 210 603 -1 210 661 -1 211 372 -1 211 439 -1 211 576 -1 211 579 -1 212 371 -1 212 438 -1 212 540 -1 212 633 -1 213 345 -1 213 565 -1 213 601 -1 213 606 -1 213 623 -1 214 232 -1 214 360 -1 214 553 -1 214 565 -1 215 295 -1 215 360 -1 215 600 -1 215 617 -1 216 371 -1 216 438 -1 216 604 -1 216 641 -1 217 361 -1 217 410 -1 217 554 -1 217 555 -1 218 386 -1 218 526 -1 218 612 -1 218 655 -1 219 368 -1 219 386 -1 219 568 -1 219 583 -1 219 607 -1 220 307 -1 220 308 -1 220 393 -1 220 568 -1 221 384 -1 221 466 -1 221 589 -1 221 659 -1 222 384 -1 222 574 -1 222 595 -1 222 638 -1 222 646 -1 223 298 -1 223 373 -1 223 646 -1 224 549 -1 224 629 -1 224 648 -1 224 656 -1 225 258 -1 225 380 -1 225 545 -1 225 575 -1 226 380 -1 226 392 -1 226 445 -1 226 446 -1 227 438 -1 227 591 -1 227 641 -1 227 647 -1 228 558 -1 228 586 -1 228 597 -1 228 633 -1 229 266 -1 229 570 -1 229 601 -1 230 543 -1 230 547 -1 230 623 -1 230 643 -1 231 543 -1 231 553 -1 231 557 -1 232 281 -1 232 563 -1 232 567 -1 233 283 -1 233 360 -1 233 584 -1 233 600 -1 234 324 -1 234 381 -1 234 600 -1 234 617 -1 235 439 -1 235 592 -1 235 649 -1 236 559 -1 236 587 -1 236 598 -1 236 634 -1 237 300 -1 237 559 -1 237 571 -1 237 602 -1 238 542 -1 238 546 -1 238 624 -1 238 642 -1 239 316 -1 239 542 -1 239 552 -1 239 556 -1 240 359 -1 240 552 -1 240 562 -1 240 566 -1 241 321 -1 241 359 -1 241 562 -1 241 585 -1 241 603 -1 242 325 -1 242 603 -1 242 610 -1 242 661 -1 243 278 -1 243 305 -1 243 591 -1 243 641 -1 244 510 -1 244 560 -1 244 662 -1 244 664 -1 245 366 -1 245 528 -1 245 635 -1 245 657 -1 246 309 -1 246 310 -1 246 445 -1 246 446 -1 246 614 -1 247 312 -1 247 534 -1 247 614 -1 247 640 -1 248 354 -1 248 609 -1 248 654 -1 249 264 -1 249 323 -1 249 367 -1 249 461 -1 249 528 -1 249 544 -1 250 333 -1 250 597 -1 250 647 -1 251 293 -1 251 334 -1 251 598 -1 251 649 -1 252 336 -1 252 384 -1 252 589 -1 252 595 -1 253 335 -1 253 466 -1 253 541 -1 253 659 -1 254 288 -1 254 289 -1 254 554 -1 254 555 -1 254 628 -1 255 338 -1 255 386 -1 255 607 -1 255 612 -1 256 395 -1 256 648 -1 256 650 -1 257 385 -1 257 648 -1 257 656 -1 258 303 -1 258 636 -1 258 663 -1 259 309 -1 259 330 -1 259 369 -1 259 445 -1 260 261 -1 260 308 -1 260 393 -1 260 463 -1 260 596 -1 261 332 -1 261 370 -1 261 462 -1 262 340 -1 262 341 -1 262 366 -1 262 657 -1 263 323 -1 263 341 -1 263 379 -1 263 657 -1 264 494 -1 264 664 -1 265 298 -1 265 467 -1 265 574 -1 265 646 -1 266 299 -1 266 475 -1 266 558 -1 266 586 -1 267 300 -1 267 476 -1 267 559 -1 267 587 -1 268 337 -1 268 436 -1 268 541 -1 268 577 -1 269 307 -1 269 568 -1 269 583 -1 269 627 -1 270 381 -1 270 576 -1 270 617 -1 271 560 -1 271 580 -1 271 664 -1 272 344 -1 272 437 -1 272 549 -1 272 656 -1 273 288 -1 273 361 -1 273 534 -1 273 555 -1 274 313 -1 274 347 -1 274 390 -1 274 531 -1 275 348 -1 275 391 -1 275 571 -1 275 642 -1 276 350 -1 276 397 -1 276 543 -1 276 547 -1 277 316 -1 277 500 -1 277 542 -1 277 546 -1 278 357 -1 278 388 -1 278 550 -1 279 306 -1 279 358 -1 279 389 -1 279 592 -1 280 352 -1 280 401 -1 280 552 -1 280 556 -1 281 320 -1 281 507 -1 281 553 -1 281 557 -1 282 321 -1 282 513 -1 282 562 -1 282 566 -1 283 322 -1 283 514 -1 283 563 -1 283 567 -1 284 325 -1 284 363 -1 284 432 -1 284 585 -1 284 603 -1 285 324 -1 285 535 -1 285 584 -1 285 600 -1 286 335 -1 286 394 -1 286 417 -1 286 589 -1 286 659 -1 287 335 -1 287 418 -1 287 541 -1 287 577 -1 288 349 -1 288 426 -1 289 396 -1 289 427 -1 289 612 -1 289 655 -1 290 333 -1 290 413 -1 290 424 -1 290 586 -1 290 597 -1 291 333 -1 291 414 -1 291 449 -1 291 647 -1 292 334 -1 292 416 -1 292 425 -1 292 587 -1 292 598 -1 293 415 -1 293 450 -1 293 551 -1 294 336 -1 294 419 -1 294 422 -1 294 574 -1 294 595 -1 295 383 -1 295 665 -1 296 338 -1 296 431 -1 296 435 -1 296 583 -1 296 607 -1 297 328 -1 297 436 -1 297 599 -1 297 666 -1 298 374 -1 298 399 -1 298 650 -1 299 376 -1 299 443 -1 299 570 -1 300 377 -1 300 444 -1 301 336 -1 301 394 -1 301 421 -1 301 589 -1 302 338 -1 302 396 -1 302 434 -1 302 612 -1 303 375 -1 303 442 -1 303 575 -1 304 395 -1 304 399 -1 304 630 -1 304 650 -1 305 387 -1 305 388 -1 305 580 -1 306 382 -1 306 472 -1 306 569 -1 307 378 -1 307 406 -1 308 406 -1 308 407 -1 309 408 -1 309 457 -1 310 311 -1 310 408 -1 310 420 -1 311 312 -1 311 524 -1 311 614 -1 312 349 -1 312 433 -1 313 512 -1 313 547 -1 313 643 -1 314 391 -1 314 447 -1 314 546 -1 314 642 -1 315 397 -1 315 451 -1 315 543 -1 315 557 -1 316 398 -1 316 452 -1 317 318 -1 317 370 -1 317 462 -1 317 517 -1 318 412 -1 318 440 -1 318 639 -1 319 401 -1 319 455 -1 319 552 -1 319 566 -1 320 402 -1 320 454 -1 320 567 -1 321 404 -1 321 465 -1 322 405 -1 322 464 -1 322 584 -1 323 423 -1 323 469 -1 323 495 -1 324 428 -1 324 429 -1 325 337 -1 325 561 -1 326 660 -1 326 662 -1 326 667 -1 327 609 -1 327 653 -1 327 654 -1 328 582 -1 328 610 -1 328 661 -1 329 385 -1 329 395 -1 329 608 -1 329 648 -1 330 456 -1 330 474 -1 330 636 -1 330 663 -1 331 431 -1 331 477 -1 331 583 -1 331 627 -1 332 459 -1 332 501 -1 332 596 -1 333 613 -1 334 415 -1 335 618 -1 336 621 -1 337 430 -1 337 610 -1 338 632 -1 339 385 -1 339 437 -1 339 631 -1 339 656 -1 340 440 -1 340 441 -1 340 639 -1 341 441 -1 341 468 -1 342 543 -1 342 553 -1 342 565 -1 342 623 -1 343 542 -1 343 564 -1 343 624 -1 344 442 -1 344 498 -1 344 575 -1 345 540 -1 345 558 -1 345 633 -1 346 539 -1 346 559 -1 346 602 -1 346 634 -1 347 443 -1 347 487 -1 347 570 -1 348 444 -1 348 488 -1 349 508 -1 349 525 -1 349 534 -1 350 448 -1 350 499 -1 351 447 -1 351 500 -1 351 546 -1 352 452 -1 352 506 -1 353 451 -1 353 507 -1 353 557 -1 354 361 -1 354 411 -1 354 534 -1 354 640 -1 355 455 -1 355 513 -1 355 566 -1 356 454 -1 356 514 -1 356 567 -1 357 449 -1 357 471 -1 358 450 -1 358 473 -1 358 551 -1 359 594 -1 360 563 -1 360 593 -1 361 654 -1 362 464 -1 362 535 -1 362 584 -1 363 465 -1 363 538 -1 364 548 -1 364 578 -1 364 638 -1 365 573 -1 365 629 -1 366 463 -1 366 639 -1 367 493 -1 367 494 -1 368 453 -1 368 590 -1 369 456 -1 369 457 -1 370 459 -1 370 460 -1 371 581 -1 371 667 -1 372 605 -1 372 665 -1 373 527 -1 373 629 -1 373 648 -1 373 650 -1 374 467 -1 374 481 -1 375 474 -1 375 502 -1 375 636 -1 376 475 -1 376 503 -1 377 476 -1 377 504 -1 378 477 -1 378 497 -1 378 627 -1 379 468 -1 379 469 -1 380 663 -1 381 382 -1 381 428 -1 382 478 -1 382 576 -1 383 576 -1 383 579 -1 383 617 -1 385 637 -1 387 458 -1 387 470 -1 388 470 -1 388 471 -1 389 472 -1 389 473 -1 390 487 -1 390 512 -1 391 488 -1 391 511 -1 392 533 -1 393 409 -1 393 453 -1 394 479 -1 394 483 -1 395 626 -1 396 482 -1 396 489 -1 397 499 -1 397 518 -1 398 500 -1 398 519 -1 399 480 -1 399 481 -1 400 438 -1 400 597 -1 400 633 -1 400 647 -1 401 506 -1 401 522 -1 402 507 -1 402 521 -1 403 439 -1 403 598 -1 403 634 -1 403 649 -1 404 513 -1 404 530 -1 405 514 -1 405 529 -1 406 496 -1 406 497 -1 407 496 -1 407 501 -1 407 596 -1 408 505 -1 408 515 -1 409 463 -1 409 652 -1 410 526 -1 410 653 -1 410 654 -1 411 533 -1 411 609 -1 412 517 -1 412 520 -1 413 490 -1 413 613 -1 414 484 -1 414 613 -1 415 416 -1 415 485 -1 416 491 -1 417 479 -1 417 618 -1 418 516 -1 418 618 -1 419 486 -1 419 615 -1 420 515 -1 420 524 -1 421 483 -1 421 621 -1 422 486 -1 422 621 -1 423 523 -1 423 544 -1 424 490 -1 424 619 -1 425 491 -1 425 620 -1 426 508 -1 426 628 -1 427 482 -1 427 628 -1 428 536 -1 429 535 -1 429 536 -1 430 561 -1 430 577 -1 431 492 -1 431 622 -1 432 538 -1 432 561 -1 433 524 -1 433 525 -1 434 489 -1 434 632 -1 435 492 -1 435 632 -1 436 610 -1 437 498 -1 437 658 -1 439 569 -1 440 520 -1 440 644 -1 441 644 -1 441 645 -1 442 502 -1 443 503 -1 444 504 -1 444 571 -1 445 663 -1 446 537 -1 447 511 -1 448 512 -1 448 547 -1 449 484 -1 449 550 -1 450 485 -1 451 518 -1 452 519 -1 452 556 -1 453 568 -1 454 521 -1 455 522 -1 456 611 -1 457 505 -1 458 494 -1 458 580 -1 458 664 -1 459 616 -1 460 517 -1 461 510 -1 461 664 -1 462 463 -1 462 639 -1 464 529 -1 465 530 -1 465 585 -1 466 588 -1 467 615 -1 468 645 -1 469 523 -1 472 478 -1 474 611 -1 475 619 -1 476 620 -1 477 622 -1 480 630 -1 493 544 -1 495 528 -1 495 657 -1 501 616 -1 509 510 -1 509 660 -1 509 662 -1 510 635 -1 516 577 -1 526 554 -1 527 638 -1 527 646 -1 531 570 -1 531 601 -1 531 623 -1 531 643 -1 532 571 -1 532 602 -1 532 624 -1 532 642 -1 533 625 -1 537 614 -1 537 640 -1 539 605 -1 540 581 -1 540 606 -1 542 651 -1 545 549 -1 545 629 -1 548 573 -1 549 575 -1 550 591 -1 550 647 -1 551 592 -1 551 649 -1 552 651 -1 554 655 -1 558 601 -1 560 604 -1 560 641 -1 564 594 -1 564 605 -1 564 651 -1 565 593 -1 569 576 -1 569 592 -1 572 652 -1 573 625 -1 574 615 -1 578 588 -1 579 665 -1 580 641 -1 582 599 -1 586 619 -1 587 620 -1 588 599 -1 588 666 -1 590 652 -1 590 653 -1 604 662 -1 604 667 -1 608 626 -1 608 637 -1 626 630 -1 631 637 -1 631 658 -1 \">\n",
       "            <coordinate point=\"-2.1 -0.9 0 -1.9 1.1 0 -0.1 -1.1 0 0 0.9 0 -3 -2 0 -3 2 0 1 -2 0 1 2 0 -2.5 2 0 -2 2 0 -1.5 2 0 -1 2 0 -0.5 2 0 -2.77423e-12 2 0 0.5 2 0 1 1.5 0 1 1 0 1 0.5 0 1 5.5056e-12 0 1 -0.5 0 1 -1 0 1 -1.5 0 0.5 -2 0 2.77411e-12 -2 0 -0.5 -2 0 -1 -2 0 -1.5 -2 0 -2 -2 0 -2.5 -2 0 -3 -1.5 0 -3 -1 0 -3 -0.5 0 -3 -5.5056e-12 0 -3 0.5 0 -3 1 0 -3 1.5 0 -1.90476 1.05238 0 -1.90952 1.00476 0 -1.91429 0.957143 0 -1.91905 0.909524 0 -1.92381 0.861905 0 -1.92857 0.814286 0 -1.93333 0.766667 0 -1.9381 0.719048 0 -1.94286 0.671429 0 -1.94762 0.62381 0 -1.95238 0.57619 0 -1.95714 0.528571 0 -1.9619 0.480952 0 -1.96667 0.433333 0 -1.97143 0.385714 0 -1.97619 0.338095 0 -1.98095 0.290476 0 -1.98571 0.242857 0 -1.99048 0.195238 0 -1.99524 0.147619 0 -2 0.1 0 -2.00476 0.052381 0 -2.00952 0.0047619 0 -2.01429 -0.0428571 0 -2.01905 -0.0904762 0 -2.02381 -0.138095 0 -2.02857 -0.185714 0 -2.03333 -0.233333 0 -2.0381 -0.280952 0 -2.04286 -0.328571 0 -2.04762 -0.37619 0 -2.05238 -0.42381 0 -2.05714 -0.471429 0 -2.0619 -0.519048 0 -2.06667 -0.566667 0 -2.07143 -0.614286 0 -2.07619 -0.661905 0 -2.08095 -0.709524 0 -2.08571 -0.757143 0 -2.09048 -0.804762 0 -2.09524 -0.852381 0 -2.05238 -0.904762 0 -2.00476 -0.909524 0 -1.95714 -0.914286 0 -1.90952 -0.919048 0 -1.8619 -0.92381 0 -1.81429 -0.928571 0 -1.76667 -0.933333 0 -1.71905 -0.938095 0 -1.67143 -0.942857 0 -1.62381 -0.947619 0 -1.57619 -0.952381 0 -1.52857 -0.957143 0 -1.48095 -0.961905 0 -1.43333 -0.966667 0 -1.38571 -0.971429 0 -1.3381 -0.97619 0 -1.29048 -0.980952 0 -1.24286 -0.985714 0 -1.19524 -0.990476 0 -1.14762 -0.995238 0 -1.1 -1 0 -1.05238 -1.00476 0 -1.00476 -1.00952 0 -0.957143 -1.01429 0 -0.909524 -1.01905 0 -0.861905 -1.02381 0 -0.814286 -1.02857 0 -0.766667 -1.03333 0 -0.719048 -1.0381 0 -0.671429 -1.04286 0 -0.62381 -1.04762 0 -0.57619 -1.05238 0 -0.528571 -1.05714 0 -0.480952 -1.0619 0 -0.433333 -1.06667 0 -0.385714 -1.07143 0 -0.338095 -1.07619 0 -0.290476 -1.08095 0 -0.242857 -1.08571 0 -0.195238 -1.09048 0 -0.147619 -1.09524 0 -0.097619 -1.05238 0 -0.0952381 -1.00476 0 -0.0928571 -0.957143 0 -0.0904762 -0.909524 0 -0.0880952 -0.861905 0 -0.0857143 -0.814286 0 -0.0833333 -0.766667 0 -0.0809524 -0.719048 0 -0.0785714 -0.671429 0 -0.0761905 -0.62381 0 -0.0738095 -0.57619 0 -0.0714286 -0.528571 0 -0.0690476 -0.480952 0 -0.0666667 -0.433333 0 -0.0642857 -0.385714 0 -0.0619048 -0.338095 0 -0.0595238 -0.290476 0 -0.0571429 -0.242857 0 -0.0547619 -0.195238 0 -0.052381 -0.147619 0 -0.05 -0.1 0 -0.047619 -0.052381 0 -0.0452381 -0.0047619 0 -0.0428571 0.0428571 0 -0.0404762 0.0904762 0 -0.0380952 0.138095 0 -0.0357143 0.185714 0 -0.0333333 0.233333 0 -0.0309524 0.280952 0 -0.0285714 0.328571 0 -0.0261905 0.37619 0 -0.0238095 0.42381 0 -0.0214286 0.471429 0 -0.0190476 0.519048 0 -0.0166667 0.566667 0 -0.0142857 0.614286 0 -0.0119048 0.661905 0 -0.00952381 0.709524 0 -0.00714286 0.757143 0 -0.0047619 0.804762 0 -0.00238095 0.852381 0 -0.0475 0.905 0 -0.095 0.91 0 -0.1425 0.915 0 -0.19 0.92 0 -0.2375 0.925 0 -0.285 0.93 0 -0.3325 0.935 0 -0.38 0.94 0 -0.4275 0.945 0 -0.475 0.95 0 -0.5225 0.955 0 -0.57 0.96 0 -0.6175 0.965 0 -0.665 0.97 0 -0.7125 0.975 0 -0.76 0.98 0 -0.8075 0.985 0 -0.855 0.99 0 -0.9025 0.995 0 -0.95 1 0 -0.9975 1.005 0 -1.045 1.01 0 -1.0925 1.015 0 -1.14 1.02 0 -1.1875 1.025 0 -1.235 1.03 0 -1.2825 1.035 0 -1.33 1.04 0 -1.3775 1.045 0 -1.425 1.05 0 -1.4725 1.055 0 -1.52 1.06 0 -1.5675 1.065 0 -1.615 1.07 0 -1.6625 1.075 0 -1.71 1.08 0 -1.7575 1.085 0 -1.805 1.09 0 -1.8525 1.095 0 0.391569 -0.710891 0 0.500736 -0.203491 0 0.495096 0.265995 0 0.450603 0.76176 0 0.282543 -1.11627 0 -0.274151 1.43715 0 -0.772935 1.54791 0 -1.29787 1.56845 0 -1.72477 1.52062 0 -1.76233 -1.50223 0 -1.22605 -1.49128 0 -0.717036 -1.4713 0 -0.351568 -1.5948 0 -2.09541 -1.4296 0 -2.497 0.769085 0 -2.51008 0.22226 0 -2.42649 -0.274059 0 -2.55719 -0.779865 0 -2.4011 1.08156 0 0.015853 1.25263 0 -0.238185 1.19441 0 -0.503538 1.24958 0 -0.758877 1.19045 0 0.187797 -0.839788 0 0.200537 -0.573773 0 0.174572 -0.340516 0 0.210833 -0.020958 0 0.225619 0.245089 0 0.331724 0.527058 0 -2.21067 0.930982 0 -2.22962 0.564737 0 -2.19397 0.355748 0 -2.23904 0.086898 0 -2.24964 -0.132634 0 -2.28861 -0.353802 0 -2.31545 -0.596802 0 -2.28868 -0.871705 0 -1.88847 -1.21751 0 -1.57748 -1.21078 0 -1.36254 -1.19874 0 -1.09047 -1.24162 0 -0.866163 -1.20895 0 -0.616537 -1.35675 0 -0.408878 -1.31488 0 -0.134588 -1.34674 0 -2.0952 1.01761 0 -2.13664 1.44574 0 -1.53393 1.43012 0 0.176828 0.647881 0 0.206268 0.88765 0 0.442503 1.22614 0 -1.7446 1.26431 0 -2.10771 0.714429 0 -1.73785 -1.10511 0 0.113142 -0.717242 0 0.146473 -0.974367 0 -0.0949946 1.07331 0 -0.364503 1.13828 0 0.10379 -0.188386 0 0.0975568 -0.0447605 0 0.141557 0.31035 0 0.103273 0.507113 0 -0.927981 1.18757 0 -1.02523 1.14651 0 -1.40852 1.23117 0 -1.52734 1.18512 0 -1.86066 1.2527 0 0.0870167 -0.449861 0 -2.13275 0.444871 0 -1.46442 -1.11779 0 0.0921206 -1.21037 0 -0.639115 1.13098 0 -2.26322 -1.03597 0 -2.0863 1.25609 0 0.0878387 0.0817181 0 0.0907297 1.08609 0 -2.11255 0.207673 0 -1.22786 -1.10242 0 -2.14299 0.00682943 0 -0.98713 -1.15843 0 -2.02974 0.946465 0 -1.96373 -1.02787 0 -0.773154 -1.15494 0 -2.20629 -0.271208 0 -0.512701 -1.19983 0 -2.22234 -0.513902 0 -0.270427 -1.21952 0 -2.22976 -0.73827 0 0.0241154 -0.895006 0 0.0162487 -1.06618 0 -0.00778854 1.01916 0 -0.188421 1.05283 0 -2.06469 0.616197 0 -2.03871 0.780144 0 -1.61671 -1.06261 0 -1.79275 -1.03972 0 0.0344217 -0.609341 0 -2.5813 -1.18778 0 -0.477956 1.06232 0 0.38233 -1.44223 0 0.0721941 -0.353726 0 -2.082 0.371124 0 -1.38507 -1.09144 0 0.00993862 -0.780746 0 -0.307329 1.02611 0 0.0780335 0.255147 0 0.0357897 -0.251878 0 -2.01723 1.0506 0 -2.03651 -1.03091 0 -0.716326 1.09463 0 -0.83 1.11117 0 0.0901929 0.5881 0 0.0900231 0.696999 0 0.100896 0.781908 0 0.101674 0.870566 0 -2.12214 0.142949 0 -1.12982 -1.10442 0 -2.14976 -0.099166 0 -0.904798 -1.13032 0 -1.14623 1.12927 0 -1.2345 1.12862 0 -0.671556 -1.17047 0 -2.15207 -0.345184 0 -0.438067 -1.19217 0 -2.1791 -0.582135 0 -1.6196 1.19654 0 -2.20411 -0.822263 0 -0.158614 -1.23002 0 -2.70393 1.49336 0 0.491435 1.56494 0 0.137598 -1.52034 0 0.0569708 -0.117339 0 0.0795193 0.411243 0 -0.583683 1.05102 0 -0.97107 1.08983 0 -2.04362 0.702121 0 -1.69659 -1.05456 0 0.0209707 -0.981421 0 0.0239543 -0.700451 0 -0.0442312 -1.236 0 -0.38745 1.04531 0 0.0374421 0.000466131 0 -1.34621 1.14821 0 -1.4483 1.14755 0 -2.40704 -0.0205175 0 -1.03065 -1.42623 0 0.0414516 0.159098 0 -2.44632 0.459378 0 -1.47912 -1.38626 0 -2.05855 0.274188 0 -1.26983 -1.04466 0 0.0589594 0.94969 0 -2.06766 0.0211023 0 -1.05127 -1.07164 0 -0.796999 -1.10128 0 -2.09991 -0.200565 0 0.370881 1.07287 0 -0.581325 -1.12135 0 -2.12158 -0.443966 0 -1.98148 0.895872 0 -1.89551 -0.992534 0 -0.51399 -1.47716 0 -2.46405 -0.492573 0 0.202746 1.21141 0 -2.14673 -0.680518 0 -0.316209 -1.14147 0 0.564904 -0.453586 0 0.543615 0.116001 0 -1.32465 1.35389 0 -1.79515 1.1638 0 -0.518852 1.46925 0 0.0345311 0.50666 0 -1.06453 1.07873 0 -2.58975 0.984957 0 -1.94819 -1.68469 0 0.234542 -0.241486 0 -0.0041333 -0.385794 0 0.0294085 0.304765 0 -2.02337 0.403007 0 -1.41354 -1.02714 0 -0.6778 1.03276 0 -1.52858 1.11743 0 0.307979 0.358723 0 -2.213 -0.940789 0 -2.13391 -0.990427 0 -2.39671 -1.24881 0 0.230528 -0.713029 0 0.0402274 -0.0563203 0 -0.351064 1.26046 0 -1.95921 1.08303 0 -1.97422 0.98562 0 -1.96904 -0.966529 0 -2.04899 0.173421 0 -1.18136 -1.05324 0 0.500548 0.554891 0 -0.848087 1.3226 0 -0.0308814 -0.828694 0 0.0402101 -0.186165 0 -0.248629 0.985134 0 -2.07849 -0.0599557 0 -0.935353 -1.07056 0 0.00168167 -0.308003 0 -2.25838 0.741291 0 -0.708364 -1.10267 0 -2.0953 -0.305609 0 -1.74572 -1.26089 0 -0.460296 -1.12004 0 -2.11903 -0.544002 0 -0.769676 1.04496 0 -0.8706 1.05665 0 0.0434564 0.648135 0 -1.02925 1.5233 0 0.0326991 1.42628 0 0.560643 0.939606 0 -1.20551 1.08037 0 -1.99658 0.630586 0 -1.98813 0.748098 0 -1.73522 -0.995971 0 -1.65269 -0.99623 0 -0.041003 -0.91282 0 -0.0446454 -1.03116 0 -0.020236 -0.557873 0 0.0428315 0.731755 0 -0.0376096 -0.74457 0 -0.0290998 -0.627553 0 -1.65889 1.12825 0 -2.00906 0.560241 0 -1.58058 -1.00455 0 -0.0376341 0.957834 0 -0.157501 0.974366 0 -2.16304 -0.872994 0 -2.14473 -0.802924 0 -0.104013 -1.15526 0 -0.530551 1.00972 0 -0.239326 -1.14322 0 0.0446734 0.854217 0 -0.329527 0.977796 0 -0.445672 0.996559 0 0.236912 -1.31271 0 0.0188366 0.0581222 0 -2.34727 0.886294 0 -1.92039 -1.35932 0 -1.29556 1.09179 0 -1.38771 1.10022 0 0.023346 0.229713 0 -2.03971 0.325367 0 -1.32537 -1.03971 0 0.200055 0.522248 0 0.315435 0.67017 0 -1.10656 -1.05242 0 -2.06998 0.0680459 0 -1.98942 0.83741 0 -1.82072 -0.982456 0 -2.08828 -0.147551 0 -0.850823 -1.09008 0 -0.681301 1.39086 0 -2.11008 -0.38867 0 -0.631083 -1.10547 0 0.0248519 0.445314 0 0.0321493 0.567721 0 -1.95073 1.1645 0 -1.00253 1.05342 0 -1.10368 1.05443 0 -1.84581 1.44507 0 -1.13691 1.22845 0 -1.1149 1.32985 0 -2.13629 -0.626884 0 -0.372505 -1.1352 0 0.322331 -0.917331 0 0.00147754 -0.445806 0 -1.4694 1.10081 0 -1.58589 1.12148 0 -1.94765 1.02447 0 -1.95825 0.930339 0 -2.02016 -0.964995 0 -1.92469 -0.95937 0 0.0226074 0.376801 0 -2.03188 0.451554 0 -1.47143 -1.03145 0 -0.612529 1.01054 0 -2.06882 -0.953395 0 -0.0533266 -0.867806 0 -0.0234035 -0.257295 0 -0.0218131 -0.345116 0 -0.197959 0.958949 0 -0.0506081 -0.779977 0 -1.97029 0.784058 0 -1.78035 -0.969004 0 -0.0419845 -0.586389 0 -2.03267 0.214282 0 -1.23144 -1.02849 0 -0.28795 0.96426 0 -1.98541 0.588737 0 -1.61903 -0.9828 0 -0.483741 0.985425 0 -1.75641 1.12633 0 -1.86828 1.16734 0 -1.57928 1.28456 0 -0.816096 1.02765 0 -0.72076 1.01729 0 0.00739767 0.118439 0 -2.05348 -0.0272369 0 -0.993106 -1.07638 0 -0.928651 1.04393 0 0.00726738 0.27181 0 -2.01309 0.35549 0 -1.37487 -1.01276 0 0.02044 0.610047 0 -0.757343 -1.07909 0 -2.10229 -0.261184 0 0.00710841 0.935841 0 -2.30024 1.72965 0 -1.99812 1.67968 0 -1.14513 -1.03361 0 -2.05685 0.123188 0 -0.518042 -1.12175 0 -2.12241 -0.500677 0 0.025588 0.696472 0 -0.0606008 -1.07662 0 -1.14886 1.07143 0 -2.06353 -0.115201 0 -0.898567 -1.05989 0 -1.24536 1.06738 0 -2.08433 -0.356823 0 -0.669257 -1.08332 0 -1.61993 1.10658 0 0.0459096 0.79316 0 0.0340153 0.901279 0 -0.148212 1.31327 0 0.319078 -0.381936 0 -1.6374 1.38012 0 -2.10892 -0.595057 0 -0.422045 -1.1073 0 -2.2244 0.225722 0 -1.23337 -1.2522 0 0.697688 0.722537 0 0.181212 0.999955 0 -2.15066 -0.742959 0 -2.13406 -0.842329 0 0.281711 0.78003 0 -0.281396 -1.12326 0 -1.46796 -1.55771 0 -2.69057 0.568019 0 0.134077 -1.09001 0 -0.976709 -1.28592 0 -2.24776 -0.0257236 0 -1.71685 1.14829 0 0.326463 0.126873 0 -1.06467 -1.14403 0 -2.15187 0.0747796 0 0.768738 -0.275734 0 0.1862 0.0925369 0 -2.06935 0.880568 0 -1.85949 -1.08222 0 -0.758259 -1.25973 0 -2.32273 -0.177015 0 -0.104289 1.18812 0 0.00386271 1.13734 0 -0.828856 -1.15487 0 -2.17931 -0.170447 0 -2.28068 0.43967 0 -1.47089 -1.22839 0 -2.23942 1.29729 0 -0.173912 -1.15114 0 -0.511591 -1.28983 0 -2.325 -0.453426 0 -0.950535 -1.63356 0 -2.62915 -0.0634605 0 -0.600927 -1.20681 0 -2.19639 -0.415087 0 -0.642818 1.24377 0 -2.01651 -1.20908 0 -2.13973 0.306696 0 -1.29007 -1.13998 0 -1.23105 1.75023 0 0.735185 0.117043 0 0.081408 -0.537101 0 0.128794 0.185772 0 -2.18575 -1.18365 0 -0.0395379 -1.14633 0 0.638931 -0.67162 0 -2.28013 -1.51169 0 -2.05779 1.14063 0 -2.76035 0.851949 0 0.263599 -1.73103 0 -0.552668 1.12245 0 -2.21954 -0.648442 0 -0.345816 -1.22344 0 -2.11399 0.533418 0 -1.54681 -1.10261 0 0.616387 -1.09107 0 0.0824848 -0.816787 0 -0.650669 1.7305 0 -2.12968 0.94411 0 -1.9429 -1.13069 0 -2.69773 -0.352011 0 -0.670689 -1.64963 0 0.116187 -0.63403 0 -0.923193 1.11093 0 -2.16385 0.650459 0 -1.65833 -1.16105 0 0.655878 -1.67144 0 -2.34525 -0.739987 0 -2.33769 0.306222 0 -1.3253 -1.3341 0 -0.291448 -1.36398 0 -2.44325 1.28969 0 -1.36208 -1.74433 0 -2.73506 0.257239 0 -0.448666 1.15006 0 -0.00722463 -0.117246 0 0.623645 1.18267 0 0.0386168 -1.35311 0 0.0076922 0.415006 0 -0.268921 1.09912 0 -1.99207 0.688542 0 0.189223 0.773387 0 -0.00187336 -0.506523 0 -0.960393 1.03245 0 -2.39026 -0.985112 0 -0.0409098 -0.97206 0 -2.02907 0.507221 0 -1.5298 -1.02096 0 -0.0303316 -0.686001 0 -0.571133 0.993366 0 -2.34514 0.128591 0 -1.15047 -1.3635 0 0.723306 0.406501 0 -0.00996532 -0.168742 0 -0.633682 1.07052 0 -0.101123 0.970691 0 0.388063 -0.0761688 0 -0.0130853 -0.218288 0 -0.00615077 -0.00834975 0 -0.389115 0.986886 0 -2.35794 0.633458 0 -1.64116 -1.34004 0 -1.68703 1.71106 0 0.0830734 0.341849 0 -0.00519175 -0.0585743 0 0.369354 -0.540105 0 -1.26094 1.21449 0 0.345019 0.898934 0 -2.19843 1.10146 0 -1.16762 -1.17441 0 -2.19335 0.153594 0 -1.33831 1.07704 0 -1.42823 1.08328 0 0.202037 -0.439396 0 -2.13731 0.806153 0 0.160532 -0.105759 0 -1.80681 -1.16594 0 0.122352 -0.266077 0 -0.860435 -1.40885 0 -0.97774 1.75101 0 -0.0760587 1.65529 0 0.326061 1.41899 0 -0.176965 1.14512 0 0.109215 0.00577768 0 -1.51236 1.28156 0 -0.010542 0.030119 0 0.115223 -0.906759 0 -2.66806 1.741 0 -0.0871395 -1.61547 0 -2.37782 1.48197 0 0.18162 0.400657 0 -1.97034 1.33795 0 -2.34403 -1.7318 0 0.427723 -1.21197 0 -2.69431 1.21843 0 \"></coordinate>\n",
       "          </indexedLineSet>\n",
       "        </shape>\n",
       "        <viewpoint id=\"default\" position=\"4.656854 5.656854 5.656854\" orientation=\"-0.7071067812 0.7071067812 0 1\" fieldOfView=\"0.785398\" centerOfRotation=\"-1.000000 0.000000 0.000000\" zNear=\"-1\" zFar=\"-1\"></viewpoint>\n",
       "        <viewpoint id=\"top\" position=\"-1.000000 8.000000 0.000000\" orientation=\"-1 0 0 1.5707963267948\" fieldOfView=\"0.785398\" centerOfRotation=\"-1.000000 0.000000 0.000000\" zNear=\"-1\" zFar=\"-1\"></viewpoint>\n",
       "        <viewpoint id=\"bottom\" position=\"-1.000000 -8.000000 0.000000\" orientation=\"1 0 0 1.5707963267948\" fieldOfView=\"0.785398\" centerOfRotation=\"-1.000000 0.000000 0.000000\" zNear=\"-1\" zFar=\"-1\"></viewpoint>\n",
       "        <viewpoint id=\"left\" position=\"7.000000 0.000000 0.000000\" orientation=\"0 1 0 1.5707963267948\" fieldOfView=\"0.785398\" centerOfRotation=\"-1.000000 0.000000 0.000000\" zNear=\"-1\" zFar=\"-1\"></viewpoint>\n",
       "        <viewpoint id=\"right\" position=\"-9.000000 0.000000 0.000000\" orientation=\"0 -1 0 1.5707963267948\" fieldOfView=\"0.785398\" centerOfRotation=\"-1.000000 0.000000 0.000000\" zNear=\"-1\" zFar=\"-1\"></viewpoint>\n",
       "        <viewpoint id=\"back\" position=\"-1.000000 0.000000 -8.000000\" orientation=\"0 1 0 3.1415926535898\" fieldOfView=\"0.785398\" centerOfRotation=\"-1.000000 0.000000 0.000000\" zNear=\"-1\" zFar=\"-1\"></viewpoint>\n",
       "        <viewpoint id=\"front\" position=\"-1.000000 0.000000 8.000000\" orientation=\"0 0 0 1\" fieldOfView=\"0.785398\" centerOfRotation=\"-1.000000 0.000000 0.000000\" zNear=\"-1\" zFar=\"-1\"></viewpoint>\n",
       "        <background skyColor=\"0.950000 0.950000 0.950000\"></background>\n",
       "        <directionalLight ambientIntensity=\"0\" intensity=\"1\"></directionalLight>\n",
       "      </scene>\n",
       "    </x3d>\n",
       "    <div id=\"menu\"><form id=\"menu-items\"><input type=\"radio\" id=\"button-options\" name=\"menu\" checked=\"\" />\n",
       "        <label for=\"button-options\">Options</label>\n",
       "        <input type=\"radio\" id=\"button-summary\" name=\"menu\" />\n",
       "        <label for=\"button-summary\" style=\"display: none;\">Summary</label>\n",
       "        <input type=\"radio\" id=\"button-color\" name=\"menu\" />\n",
       "        <label for=\"button-color\" style=\"display: none;\">Color</label>\n",
       "        <input type=\"radio\" id=\"button-warp\" name=\"menu\" />\n",
       "        <label for=\"button-warp\" style=\"display: none;\">Warp</label>\n",
       "        <input type=\"radio\" id=\"button-viewpoints\" name=\"menu\" />\n",
       "        <label for=\"button-viewpoints\" style=\"display: none;\">Viewpoints</label>\n",
       "      </form>\n",
       "      <div id=\"menu-content\"><div id=\"content-options\" for=\"button-options\"><span>Menu Options</span>\n",
       "          <br />\n",
       "          <form class=\"options\"><input type=\"checkbox\" id=\"select-summary\" />\n",
       "            <label for=\"select-summary\">Summary</label>\n",
       "          </form>\n",
       "          <br />\n",
       "          <form class=\"options\"><input type=\"checkbox\" id=\"select-color\" />\n",
       "            <label for=\"select-color\">Color</label>\n",
       "          </form>\n",
       "          <br />\n",
       "          <form class=\"options\"><input type=\"checkbox\" id=\"select-warp\" />\n",
       "            <label for=\"select-warp\">Warp</label>\n",
       "          </form>\n",
       "          <br />\n",
       "          <form class=\"options\"><input type=\"checkbox\" id=\"select-viewpoints\" />\n",
       "            <label for=\"select-viewpoints\">Viewpoints</label>\n",
       "          </form>\n",
       "        </div>\n",
       "        <div id=\"content-summary\" for=\"button-summary\" hidden=\"\">Number of vertices: 668<br />Number of cells: 569</div>\n",
       "        <div id=\"content-color\" for=\"button-color\" hidden=\"\"><form>\n",
       "            <input id=\"color-checkbox\" type=\"checkbox\" checked=\"\" />\n",
       "            <label for=\"color-checkbox\">Show Color</label>\n",
       "          </form>Current Color Map:<br />\n",
       "          <span id=\"min-color-value\"></span>\n",
       "          <span id=\"color-map\"></span>\n",
       "          <span id=\"max-color-value\"></span>\n",
       "        </div>\n",
       "        <div id=\"content-warp\" for=\"button-warp\" hidden=\"\"><form>\n",
       "            <input id=\"warp-checkbox\" type=\"checkbox\" />\n",
       "            <label for=\"warp-checkbox\">Warp By Scalar</label>\n",
       "            <br />\n",
       "            <input id=\"warp-slider\" type=\"range\" min=\"0\" max=\"5\" step=\"0.01\" value=\"1\" disabled=\"\" />\n",
       "            <br />\n",
       "            <label id=\"warp-slider-val\" for=\"warp-slider\">1</label>\n",
       "          </form>\n",
       "        </div>\n",
       "        <div id=\"content-viewpoints\" for=\"button-viewpoints\" hidden=\"\"><span>Viewpoint Options</span>\n",
       "          <br />\n",
       "          <button class=\"viewpoint\">front</button>\n",
       "          <button class=\"viewpoint\">back</button>\n",
       "          <button class=\"viewpoint\">left</button>\n",
       "          <br />\n",
       "          <button class=\"viewpoint\">right</button>\n",
       "          <button class=\"viewpoint\">top</button>\n",
       "          <button class=\"viewpoint\">bottom</button>\n",
       "        </div>\n",
       "      </div>\n",
       "    </div>\n",
       "  </body>\n",
       "</html>\n"
      ],
      "text/plain": [
       "<IPython.core.display.HTML object>"
      ]
     },
     "execution_count": 92,
     "metadata": {},
     "output_type": "execute_result"
    }
   ],
   "source": [
    "mesh = Mesh()\n",
    "filename = \"example_quad.xdmf\"\n",
    "f = XDMFFile(mpi_comm_world(), filename)\n",
    "f.read(mesh)\n",
    "\n",
    "V = FunctionSpace(mesh, \"Lagrange\", 1)\n",
    "\n",
    "# Build the set of vertices where bcs should be prescribed\n",
    "node_set = VertexFunction('size_t', mesh, 0)\n",
    "bc_boundary = CompiledSubDomain('near(x[0], -3) || near(x[0], 1)')\n",
    "bc_boundary.mark(node_set, 1)\n",
    "# Only keep vertices marked as 1\n",
    "node_set = [v.index() for v in SubsetIterator(node_set, 1)]\n",
    "dof_set = numpy.array(vertex_to_dof_map(V)[node_set], dtype='intc')\n",
    "\n",
    "# Define variational problem\n",
    "u = TrialFunction(V)\n",
    "v = TestFunction(V)\n",
    "\n",
    "a = dot(grad(u), grad(v))*dx\n",
    "L = 1.0*v*dx\n",
    "\n",
    "A = assemble(a)\n",
    "# Modify A: zero bc row & set diagonal to 1\n",
    "A.ident_local(dof_set)\n",
    "A.apply('insert')\n",
    "\n",
    "b = assemble(L)\n",
    "# Modify b: entry in the bc row is taken from bc_f\n",
    "bc_values = interpolate(Constant(0.0), V).vector().array()\n",
    "b_values = b.array()\n",
    "b_values[dof_set] = bc_values[dof_set]\n",
    "b.set_local(b_values)\n",
    "b.apply('insert')\n",
    "\n",
    "u = Function(V)\n",
    "solve(A, u.vector(), b)\n",
    "\n",
    "HTML(X3DOM().html(u))"
   ]
  },
  {
   "cell_type": "markdown",
   "metadata": {},
   "source": [
    "___________________\n",
    "`mpirun` does not work now. It gives\n",
    "```\n",
    "Process 1: Solving linear variational problem.\n",
    "Traceback (most recent call last):\n",
    "  File \"testmpi.py\", line 61, in <module>\n",
    "    solve(a==L, uf, bc)\n",
    "  File \"/home/fenics/local/lib/python3.5/site-packages/dolfin/fem/solving.py\", line 300, in solve\n",
    "    _solve_varproblem(*args, **kwargs)\n",
    "  File \"/home/fenics/local/lib/python3.5/site-packages/dolfin/fem/solving.py\", line 330, in _solve_varproblem\n",
    "    solver.solve()\n",
    "RuntimeError:\n",
    "\n",
    "*** -------------------------------------------------------------------------\n",
    "*** DOLFIN encountered an error. If you are not able to resolve this issue\n",
    "*** using the information listed below, you can ask for help at\n",
    "***\n",
    "***     fenics-support@googlegroups.com\n",
    "***\n",
    "*** Remember to include the error message listed below and, if possible,\n",
    "*** include a *minimal* running example to reproduce the error.\n",
    "***\n",
    "*** -------------------------------------------------------------------------\n",
    "*** Error:   Unable to access vector of degrees of freedom.\n",
    "*** Reason:  Cannot access a non-const vector from a subfunction.\n",
    "*** Where:   This error was encountered inside Function.cpp.\n",
    "*** Process: 1\n",
    "***\n",
    "*** DOLFIN version: 2017.2.0.dev0\n",
    "*** Git changeset:  8d14e7e3a620a442f5a9019064790972e18af2fc\n",
    "*** -------------------------------------------------------------------------\n",
    "       ```"
   ]
  },
  {
   "cell_type": "markdown",
   "metadata": {},
   "source": [
    "______________________\n",
    "* Higher order elements can be checked after `DirichletBC` is fixed.\n",
    "* `Dofmap` still needs improvement and tests.\n",
    "* Flattening of TensorProductElements needs to be done on FIAT side\n",
    "  * Adding `FiredrakeHexahedron` and `FlatTPE` class"
   ]
  },
  {
   "cell_type": "code",
   "execution_count": null,
   "metadata": {
    "collapsed": true
   },
   "outputs": [],
   "source": []
  }
 ],
 "metadata": {
  "kernelspec": {
   "display_name": "Python 3",
   "language": "python",
   "name": "python3"
  },
  "language_info": {
   "codemirror_mode": {
    "name": "ipython",
    "version": 3
   },
   "file_extension": ".py",
   "mimetype": "text/x-python",
   "name": "python",
   "nbconvert_exporter": "python",
   "pygments_lexer": "ipython3",
   "version": "3.5.2"
  }
 },
 "nbformat": 4,
 "nbformat_minor": 2
}
