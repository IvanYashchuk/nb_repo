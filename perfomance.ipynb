{
 "cells": [
  {
   "cell_type": "code",
   "execution_count": 1,
   "metadata": {},
   "outputs": [
    {
     "name": "stdout",
     "output_type": "stream",
     "text": [
      "/home/fenics/shared/python/fenics/trash\r\n"
     ]
    }
   ],
   "source": [
    "from IPython.display import HTML\n",
    "from dolfin import *\n",
    "#import dijitso\n",
    "#dijitso.set_log_level('debug')\n",
    "import numpy\n",
    "parameters[\"form_compiler\"][\"representation\"] = \"uflacs\"\n",
    "parameters['form_compiler']['optimize'] = False\n",
    "\n",
    "!cd ~/.cache/fenics && rm -r dijitso && cd -\n",
    "\n",
    "from time import time\n",
    "import tabulate"
   ]
  },
  {
   "cell_type": "markdown",
   "metadata": {},
   "source": [
    "## Measure perfomance of quadrilateral/hexahedron code against triangle/tetrahedron"
   ]
  },
  {
   "cell_type": "code",
   "execution_count": 2,
   "metadata": {
    "collapsed": true
   },
   "outputs": [],
   "source": [
    "def measure_construction_CG_function_space(mesh, degree):\n",
    "    start = time()\n",
    "    V = FunctionSpace(mesh, 'CG', degree)\n",
    "    stop = time()\n",
    "    elapsed = stop - start\n",
    "    return elapsed\n",
    "\n",
    "def measure_construction_DG_function_space(mesh, degree):\n",
    "    start = time()\n",
    "    V = FunctionSpace(mesh, 'DG', degree)\n",
    "    stop = time()\n",
    "    elapsed = stop - start\n",
    "    return elapsed\n",
    "\n",
    "def measure_assemble_system(mesh, degree):\n",
    "    V = FunctionSpace(mesh, 'CG', degree)\n",
    "    u = TrialFunction(V)\n",
    "    v = TestFunction(V)\n",
    "    a = inner(grad(u), grad(v))*dx\n",
    "    L = Constant(1.0)*v*dx\n",
    "    start = time()\n",
    "    assemble_system(a, L)\n",
    "    stop = time()\n",
    "    elapsed = stop - start\n",
    "    return elapsed\n",
    "\n",
    "def tabulate_timing(meshes, degrees, func):\n",
    "    \n",
    "    table = [[mesh.ufl_cell().cellname()] for mesh in meshes]\n",
    "    header = [\"Cell\"] + [\"degree %d\" % degree for degree in degrees]\n",
    "    \n",
    "    for idx, mesh in enumerate(meshes):\n",
    "        for degree in degrees:\n",
    "            t = func(mesh, degree)\n",
    "            table[idx].append(t)\n",
    "\n",
    "    return HTML(tabulate.tabulate(table, tablefmt='html', headers=header))    "
   ]
  },
  {
   "cell_type": "code",
   "execution_count": 3,
   "metadata": {
    "collapsed": true
   },
   "outputs": [],
   "source": [
    "# Create one cell mesh\n",
    "mesh_tri = UnitTriangleMesh.create()\n",
    "mesh_quad = UnitQuadMesh.create(1, 1)\n",
    "\n",
    "mesh_tet = UnitTetrahedronMesh.create()\n",
    "mesh_hex = UnitHexMesh.create(1, 1, 1)\n",
    "\n",
    "meshes = [mesh_tri, mesh_quad, mesh_tet, mesh_hex]\n",
    "degrees = range(1, 5)"
   ]
  },
  {
   "cell_type": "code",
   "execution_count": 4,
   "metadata": {},
   "outputs": [
    {
     "name": "stdout",
     "output_type": "stream",
     "text": [
      "Calling FFC just-in-time (JIT) compiler, this may take some time.\n",
      "Calling FFC just-in-time (JIT) compiler, this may take some time.\n",
      "Calling FFC just-in-time (JIT) compiler, this may take some time.\n",
      "Calling FFC just-in-time (JIT) compiler, this may take some time.\n",
      "Calling FFC just-in-time (JIT) compiler, this may take some time.\n",
      "Calling FFC just-in-time (JIT) compiler, this may take some time.\n",
      "Calling FFC just-in-time (JIT) compiler, this may take some time.\n",
      "Calling FFC just-in-time (JIT) compiler, this may take some time.\n",
      "Calling FFC just-in-time (JIT) compiler, this may take some time.\n",
      "Calling FFC just-in-time (JIT) compiler, this may take some time.\n",
      "Calling FFC just-in-time (JIT) compiler, this may take some time.\n",
      "Calling FFC just-in-time (JIT) compiler, this may take some time.\n",
      "Calling FFC just-in-time (JIT) compiler, this may take some time.\n",
      "Calling FFC just-in-time (JIT) compiler, this may take some time.\n",
      "Calling FFC just-in-time (JIT) compiler, this may take some time.\n",
      "Calling FFC just-in-time (JIT) compiler, this may take some time.\n"
     ]
    },
    {
     "data": {
      "text/html": [
       "<table>\n",
       "<thead>\n",
       "<tr><th>Cell         </th><th style=\"text-align: right;\">  degree 1</th><th style=\"text-align: right;\">  degree 2</th><th style=\"text-align: right;\">  degree 3</th><th style=\"text-align: right;\">  degree 4</th></tr>\n",
       "</thead>\n",
       "<tbody>\n",
       "<tr><td>triangle     </td><td style=\"text-align: right;\">   2.53757</td><td style=\"text-align: right;\">   2.51465</td><td style=\"text-align: right;\">   3.53565</td><td style=\"text-align: right;\">   5.64776</td></tr>\n",
       "<tr><td>quadrilateral</td><td style=\"text-align: right;\">   1.53782</td><td style=\"text-align: right;\">   1.59859</td><td style=\"text-align: right;\">   1.68328</td><td style=\"text-align: right;\">   1.6939 </td></tr>\n",
       "<tr><td>tetrahedron  </td><td style=\"text-align: right;\">   2.20376</td><td style=\"text-align: right;\">   3.94386</td><td style=\"text-align: right;\">   8.41378</td><td style=\"text-align: right;\">  21.2687 </td></tr>\n",
       "<tr><td>hexahedron   </td><td style=\"text-align: right;\">   1.53721</td><td style=\"text-align: right;\">   1.95419</td><td style=\"text-align: right;\">   2.98552</td><td style=\"text-align: right;\">   5.93947</td></tr>\n",
       "</tbody>\n",
       "</table>"
      ],
      "text/plain": [
       "<IPython.core.display.HTML object>"
      ]
     },
     "execution_count": 4,
     "metadata": {},
     "output_type": "execute_result"
    }
   ],
   "source": [
    "tabulate_timing(meshes, degrees, measure_construction_CG_function_space)"
   ]
  },
  {
   "cell_type": "markdown",
   "metadata": {},
   "source": [
    " ↑ Table 1. Time spent on constructing CG FE space for different cells (in seconds)."
   ]
  },
  {
   "cell_type": "code",
   "execution_count": 4,
   "metadata": {},
   "outputs": [
    {
     "name": "stdout",
     "output_type": "stream",
     "text": [
      "Calling FFC just-in-time (JIT) compiler, this may take some time.\n",
      "Calling FFC just-in-time (JIT) compiler, this may take some time.\n",
      "Calling FFC just-in-time (JIT) compiler, this may take some time.\n",
      "Calling FFC just-in-time (JIT) compiler, this may take some time.\n",
      "Discontinuous Lagrange element requested on quadrilateral, creating DQ element.\n",
      "Calling FFC just-in-time (JIT) compiler, this may take some time.\n",
      "Discontinuous Lagrange element requested on quadrilateral, creating DQ element.\n",
      "Calling FFC just-in-time (JIT) compiler, this may take some time.\n",
      "Discontinuous Lagrange element requested on quadrilateral, creating DQ element.\n",
      "Calling FFC just-in-time (JIT) compiler, this may take some time.\n",
      "Discontinuous Lagrange element requested on quadrilateral, creating DQ element.\n",
      "Calling FFC just-in-time (JIT) compiler, this may take some time.\n",
      "Calling FFC just-in-time (JIT) compiler, this may take some time.\n",
      "Calling FFC just-in-time (JIT) compiler, this may take some time.\n",
      "Calling FFC just-in-time (JIT) compiler, this may take some time.\n",
      "Calling FFC just-in-time (JIT) compiler, this may take some time.\n",
      "Discontinuous Lagrange element requested on hexahedron, creating DQ element.\n",
      "Calling FFC just-in-time (JIT) compiler, this may take some time.\n",
      "Discontinuous Lagrange element requested on hexahedron, creating DQ element.\n",
      "Calling FFC just-in-time (JIT) compiler, this may take some time.\n",
      "Discontinuous Lagrange element requested on hexahedron, creating DQ element.\n",
      "Calling FFC just-in-time (JIT) compiler, this may take some time.\n",
      "Discontinuous Lagrange element requested on hexahedron, creating DQ element.\n",
      "Calling FFC just-in-time (JIT) compiler, this may take some time.\n"
     ]
    },
    {
     "data": {
      "text/html": [
       "<table>\n",
       "<thead>\n",
       "<tr><th>Cell         </th><th style=\"text-align: right;\">  degree 1</th><th style=\"text-align: right;\">  degree 2</th><th style=\"text-align: right;\">  degree 3</th><th style=\"text-align: right;\">  degree 4</th></tr>\n",
       "</thead>\n",
       "<tbody>\n",
       "<tr><td>triangle     </td><td style=\"text-align: right;\">   1.97878</td><td style=\"text-align: right;\">   2.51378</td><td style=\"text-align: right;\">   3.57225</td><td style=\"text-align: right;\">   5.36481</td></tr>\n",
       "<tr><td>quadrilateral</td><td style=\"text-align: right;\">   1.53442</td><td style=\"text-align: right;\">   1.64536</td><td style=\"text-align: right;\">   1.67363</td><td style=\"text-align: right;\">   1.71761</td></tr>\n",
       "<tr><td>tetrahedron  </td><td style=\"text-align: right;\">   2.20178</td><td style=\"text-align: right;\">   3.82189</td><td style=\"text-align: right;\">   8.20775</td><td style=\"text-align: right;\">  20.7605 </td></tr>\n",
       "<tr><td>hexahedron   </td><td style=\"text-align: right;\">   1.53145</td><td style=\"text-align: right;\">   1.87909</td><td style=\"text-align: right;\">   2.92186</td><td style=\"text-align: right;\">   6.17027</td></tr>\n",
       "</tbody>\n",
       "</table>"
      ],
      "text/plain": [
       "<IPython.core.display.HTML object>"
      ]
     },
     "execution_count": 4,
     "metadata": {},
     "output_type": "execute_result"
    }
   ],
   "source": [
    "tabulate_timing(meshes, degrees, measure_construction_DG_function_space)"
   ]
  },
  {
   "cell_type": "markdown",
   "metadata": {},
   "source": [
    "↑ Table 2. Time spent on constructing DG FE space for different cells (in seconds)"
   ]
  },
  {
   "cell_type": "code",
   "execution_count": 4,
   "metadata": {},
   "outputs": [
    {
     "name": "stdout",
     "output_type": "stream",
     "text": [
      "Calling FFC just-in-time (JIT) compiler, this may take some time.\n",
      "Calling FFC just-in-time (JIT) compiler, this may take some time.\n",
      "Calling FFC just-in-time (JIT) compiler, this may take some time.\n",
      "Calling FFC just-in-time (JIT) compiler, this may take some time.\n",
      "Calling FFC just-in-time (JIT) compiler, this may take some time.\n",
      "Calling FFC just-in-time (JIT) compiler, this may take some time.\n",
      "Calling FFC just-in-time (JIT) compiler, this may take some time.\n",
      "Calling FFC just-in-time (JIT) compiler, this may take some time.\n",
      "Calling FFC just-in-time (JIT) compiler, this may take some time.\n",
      "Calling FFC just-in-time (JIT) compiler, this may take some time.\n",
      "Calling FFC just-in-time (JIT) compiler, this may take some time.\n",
      "Calling FFC just-in-time (JIT) compiler, this may take some time.\n",
      "Calling FFC just-in-time (JIT) compiler, this may take some time.\n",
      "Calling FFC just-in-time (JIT) compiler, this may take some time.\n",
      "Calling FFC just-in-time (JIT) compiler, this may take some time.\n",
      "Calling FFC just-in-time (JIT) compiler, this may take some time.\n",
      "Calling FFC just-in-time (JIT) compiler, this may take some time.\n",
      "Calling FFC just-in-time (JIT) compiler, this may take some time.\n",
      "Calling FFC just-in-time (JIT) compiler, this may take some time.\n",
      "Calling FFC just-in-time (JIT) compiler, this may take some time.\n",
      "Calling FFC just-in-time (JIT) compiler, this may take some time.\n",
      "Calling FFC just-in-time (JIT) compiler, this may take some time.\n",
      "Calling FFC just-in-time (JIT) compiler, this may take some time.\n",
      "Calling FFC just-in-time (JIT) compiler, this may take some time.\n",
      "Calling FFC just-in-time (JIT) compiler, this may take some time.\n",
      "Calling FFC just-in-time (JIT) compiler, this may take some time.\n",
      "Calling FFC just-in-time (JIT) compiler, this may take some time.\n",
      "Calling FFC just-in-time (JIT) compiler, this may take some time.\n",
      "Calling FFC just-in-time (JIT) compiler, this may take some time.\n",
      "Calling FFC just-in-time (JIT) compiler, this may take some time.\n",
      "Calling FFC just-in-time (JIT) compiler, this may take some time.\n",
      "Calling FFC just-in-time (JIT) compiler, this may take some time.\n",
      "Calling FFC just-in-time (JIT) compiler, this may take some time.\n",
      "Calling FFC just-in-time (JIT) compiler, this may take some time.\n",
      "Calling FFC just-in-time (JIT) compiler, this may take some time.\n",
      "Calling FFC just-in-time (JIT) compiler, this may take some time.\n",
      "Calling FFC just-in-time (JIT) compiler, this may take some time.\n",
      "Calling FFC just-in-time (JIT) compiler, this may take some time.\n",
      "Calling FFC just-in-time (JIT) compiler, this may take some time.\n",
      "Calling FFC just-in-time (JIT) compiler, this may take some time.\n",
      "Calling FFC just-in-time (JIT) compiler, this may take some time.\n",
      "Calling FFC just-in-time (JIT) compiler, this may take some time.\n",
      "Calling FFC just-in-time (JIT) compiler, this may take some time.\n",
      "Calling FFC just-in-time (JIT) compiler, this may take some time.\n",
      "Calling FFC just-in-time (JIT) compiler, this may take some time.\n",
      "Calling FFC just-in-time (JIT) compiler, this may take some time.\n",
      "Calling FFC just-in-time (JIT) compiler, this may take some time.\n",
      "Calling FFC just-in-time (JIT) compiler, this may take some time.\n",
      "Calling FFC just-in-time (JIT) compiler, this may take some time.\n",
      "Calling FFC just-in-time (JIT) compiler, this may take some time.\n",
      "Calling FFC just-in-time (JIT) compiler, this may take some time.\n",
      "Calling FFC just-in-time (JIT) compiler, this may take some time.\n",
      "Calling FFC just-in-time (JIT) compiler, this may take some time.\n",
      "Calling FFC just-in-time (JIT) compiler, this may take some time.\n",
      "Calling FFC just-in-time (JIT) compiler, this may take some time.\n",
      "Calling FFC just-in-time (JIT) compiler, this may take some time.\n",
      "Calling FFC just-in-time (JIT) compiler, this may take some time.\n",
      "Calling FFC just-in-time (JIT) compiler, this may take some time.\n",
      "Calling FFC just-in-time (JIT) compiler, this may take some time.\n",
      "  WARNING: The number of integration points for each cell will be: 125\n",
      "           Consider using the option 'quadrature_degree' to reduce the number of points\n",
      "Calling FFC just-in-time (JIT) compiler, this may take some time.\n"
     ]
    },
    {
     "data": {
      "text/html": [
       "<table>\n",
       "<thead>\n",
       "<tr><th>Cell         </th><th style=\"text-align: right;\">  degree 1</th><th style=\"text-align: right;\">  degree 2</th><th style=\"text-align: right;\">  degree 3</th><th style=\"text-align: right;\">  degree 4</th></tr>\n",
       "</thead>\n",
       "<tbody>\n",
       "<tr><td>triangle     </td><td style=\"text-align: right;\">   9.74011</td><td style=\"text-align: right;\">   3.16482</td><td style=\"text-align: right;\">   3.07169</td><td style=\"text-align: right;\">   3.05675</td></tr>\n",
       "<tr><td>quadrilateral</td><td style=\"text-align: right;\">   8.44872</td><td style=\"text-align: right;\">   3.12987</td><td style=\"text-align: right;\">   3.09021</td><td style=\"text-align: right;\">   3.80055</td></tr>\n",
       "<tr><td>tetrahedron  </td><td style=\"text-align: right;\">   9.52611</td><td style=\"text-align: right;\">   3.18611</td><td style=\"text-align: right;\">   3.3254 </td><td style=\"text-align: right;\">   3.65695</td></tr>\n",
       "<tr><td>hexahedron   </td><td style=\"text-align: right;\">   8.5589 </td><td style=\"text-align: right;\">   4.36297</td><td style=\"text-align: right;\">   4.56851</td><td style=\"text-align: right;\">   5.95349</td></tr>\n",
       "</tbody>\n",
       "</table>"
      ],
      "text/plain": [
       "<IPython.core.display.HTML object>"
      ]
     },
     "execution_count": 4,
     "metadata": {},
     "output_type": "execute_result"
    }
   ],
   "source": [
    "tabulate_timing(meshes, degrees, measure_assemble_system)"
   ]
  },
  {
   "cell_type": "markdown",
   "metadata": {},
   "source": [
    "↑ Table 3. Time spent on system assembly (in seconds)"
   ]
  },
  {
   "cell_type": "code",
   "execution_count": 4,
   "metadata": {
    "collapsed": true
   },
   "outputs": [],
   "source": [
    "# Create meshes with same number of elements\n",
    "mesh_tri = UnitSquareMesh(18, 18)\n",
    "mesh_quad = UnitQuadMesh.create(36, 36)\n",
    "assert mesh_quad.num_cells() == mesh_quad.num_cells()\n",
    "\n",
    "mesh_tet = UnitCubeMesh(6, 6, 6)\n",
    "mesh_hex = UnitHexMesh.create(16, 9, 9)\n",
    "assert mesh_tet.num_cells() == mesh_hex.num_cells()\n",
    "\n",
    "meshes = [mesh_tri, mesh_quad, mesh_tet, mesh_hex]"
   ]
  },
  {
   "cell_type": "code",
   "execution_count": 5,
   "metadata": {},
   "outputs": [
    {
     "name": "stdout",
     "output_type": "stream",
     "text": [
      "Calling FFC just-in-time (JIT) compiler, this may take some time.\n",
      "Calling FFC just-in-time (JIT) compiler, this may take some time.\n",
      "Calling FFC just-in-time (JIT) compiler, this may take some time.\n",
      "Calling FFC just-in-time (JIT) compiler, this may take some time.\n",
      "Calling FFC just-in-time (JIT) compiler, this may take some time.\n",
      "Calling FFC just-in-time (JIT) compiler, this may take some time.\n",
      "Calling FFC just-in-time (JIT) compiler, this may take some time.\n",
      "Calling FFC just-in-time (JIT) compiler, this may take some time.\n",
      "Calling FFC just-in-time (JIT) compiler, this may take some time.\n",
      "Calling FFC just-in-time (JIT) compiler, this may take some time.\n",
      "Calling FFC just-in-time (JIT) compiler, this may take some time.\n",
      "Calling FFC just-in-time (JIT) compiler, this may take some time.\n",
      "Calling FFC just-in-time (JIT) compiler, this may take some time.\n",
      "Calling FFC just-in-time (JIT) compiler, this may take some time.\n",
      "Calling FFC just-in-time (JIT) compiler, this may take some time.\n",
      "Calling FFC just-in-time (JIT) compiler, this may take some time.\n",
      "Calling FFC just-in-time (JIT) compiler, this may take some time.\n",
      "Calling FFC just-in-time (JIT) compiler, this may take some time.\n",
      "Calling FFC just-in-time (JIT) compiler, this may take some time.\n",
      "Calling FFC just-in-time (JIT) compiler, this may take some time.\n",
      "Calling FFC just-in-time (JIT) compiler, this may take some time.\n",
      "Calling FFC just-in-time (JIT) compiler, this may take some time.\n",
      "Calling FFC just-in-time (JIT) compiler, this may take some time.\n",
      "Calling FFC just-in-time (JIT) compiler, this may take some time.\n",
      "Calling FFC just-in-time (JIT) compiler, this may take some time.\n",
      "Calling FFC just-in-time (JIT) compiler, this may take some time.\n",
      "Calling FFC just-in-time (JIT) compiler, this may take some time.\n",
      "Calling FFC just-in-time (JIT) compiler, this may take some time.\n",
      "Calling FFC just-in-time (JIT) compiler, this may take some time.\n",
      "Calling FFC just-in-time (JIT) compiler, this may take some time.\n",
      "Calling FFC just-in-time (JIT) compiler, this may take some time.\n",
      "Calling FFC just-in-time (JIT) compiler, this may take some time.\n",
      "Calling FFC just-in-time (JIT) compiler, this may take some time.\n",
      "Calling FFC just-in-time (JIT) compiler, this may take some time.\n",
      "Calling FFC just-in-time (JIT) compiler, this may take some time.\n",
      "Calling FFC just-in-time (JIT) compiler, this may take some time.\n",
      "Calling FFC just-in-time (JIT) compiler, this may take some time.\n",
      "Calling FFC just-in-time (JIT) compiler, this may take some time.\n",
      "Calling FFC just-in-time (JIT) compiler, this may take some time.\n",
      "Calling FFC just-in-time (JIT) compiler, this may take some time.\n",
      "Calling FFC just-in-time (JIT) compiler, this may take some time.\n",
      "Calling FFC just-in-time (JIT) compiler, this may take some time.\n",
      "Calling FFC just-in-time (JIT) compiler, this may take some time.\n",
      "Calling FFC just-in-time (JIT) compiler, this may take some time.\n",
      "Calling FFC just-in-time (JIT) compiler, this may take some time.\n",
      "Calling FFC just-in-time (JIT) compiler, this may take some time.\n",
      "Calling FFC just-in-time (JIT) compiler, this may take some time.\n",
      "Calling FFC just-in-time (JIT) compiler, this may take some time.\n",
      "Calling FFC just-in-time (JIT) compiler, this may take some time.\n",
      "Calling FFC just-in-time (JIT) compiler, this may take some time.\n",
      "Calling FFC just-in-time (JIT) compiler, this may take some time.\n",
      "Calling FFC just-in-time (JIT) compiler, this may take some time.\n",
      "Calling FFC just-in-time (JIT) compiler, this may take some time.\n",
      "Calling FFC just-in-time (JIT) compiler, this may take some time.\n",
      "Calling FFC just-in-time (JIT) compiler, this may take some time.\n",
      "Calling FFC just-in-time (JIT) compiler, this may take some time.\n",
      "Calling FFC just-in-time (JIT) compiler, this may take some time.\n",
      "Calling FFC just-in-time (JIT) compiler, this may take some time.\n",
      "Calling FFC just-in-time (JIT) compiler, this may take some time.\n",
      "  WARNING: The number of integration points for each cell will be: 125\n",
      "           Consider using the option 'quadrature_degree' to reduce the number of points\n",
      "Calling FFC just-in-time (JIT) compiler, this may take some time.\n"
     ]
    },
    {
     "data": {
      "text/html": [
       "<table>\n",
       "<thead>\n",
       "<tr><th>Cell         </th><th style=\"text-align: right;\">  degree 1</th><th style=\"text-align: right;\">  degree 2</th><th style=\"text-align: right;\">  degree 3</th><th style=\"text-align: right;\">  degree 4</th></tr>\n",
       "</thead>\n",
       "<tbody>\n",
       "<tr><td>triangle     </td><td style=\"text-align: right;\">   8.29201</td><td style=\"text-align: right;\">   3.49327</td><td style=\"text-align: right;\">   3.06421</td><td style=\"text-align: right;\">   3.06657</td></tr>\n",
       "<tr><td>quadrilateral</td><td style=\"text-align: right;\">   7.47131</td><td style=\"text-align: right;\">   3.09285</td><td style=\"text-align: right;\">   3.18053</td><td style=\"text-align: right;\">   4.09288</td></tr>\n",
       "<tr><td>tetrahedron  </td><td style=\"text-align: right;\">   9.53658</td><td style=\"text-align: right;\">   3.23396</td><td style=\"text-align: right;\">   3.99062</td><td style=\"text-align: right;\">   4.27648</td></tr>\n",
       "<tr><td>hexahedron   </td><td style=\"text-align: right;\">   8.28422</td><td style=\"text-align: right;\">   4.99912</td><td style=\"text-align: right;\">  12.4095 </td><td style=\"text-align: right;\">  56.4515 </td></tr>\n",
       "</tbody>\n",
       "</table>"
      ],
      "text/plain": [
       "<IPython.core.display.HTML object>"
      ]
     },
     "execution_count": 5,
     "metadata": {},
     "output_type": "execute_result"
    }
   ],
   "source": [
    "tabulate_timing(meshes, degrees, measure_assemble_system)"
   ]
  },
  {
   "cell_type": "markdown",
   "metadata": {},
   "source": [
    "↑ Table 4. Time spent on system assembly (in seconds) for same number of cells"
   ]
  },
  {
   "cell_type": "code",
   "execution_count": 4,
   "metadata": {},
   "outputs": [],
   "source": [
    "# Create meshes with same number of vertices for quad/tri and hex/tet pairs.\n",
    "mesh_tri = UnitSquareMesh(20, 20)\n",
    "mesh_quad = UnitQuadMesh.create(20, 20)\n",
    "assert mesh_tri.num_vertices() == mesh_quad.num_vertices()\n",
    "\n",
    "mesh_tet = UnitCubeMesh(10, 10, 10)\n",
    "mesh_hex = UnitHexMesh.create(10, 10, 10)\n",
    "assert mesh_tet.num_vertices() == mesh_hex.num_vertices()\n",
    "\n",
    "meshes = [mesh_tri, mesh_quad, mesh_tet, mesh_hex]"
   ]
  },
  {
   "cell_type": "code",
   "execution_count": 5,
   "metadata": {},
   "outputs": [
    {
     "name": "stdout",
     "output_type": "stream",
     "text": [
      "Calling FFC just-in-time (JIT) compiler, this may take some time.\n",
      "Calling FFC just-in-time (JIT) compiler, this may take some time.\n",
      "Calling FFC just-in-time (JIT) compiler, this may take some time.\n",
      "Calling FFC just-in-time (JIT) compiler, this may take some time.\n",
      "Calling FFC just-in-time (JIT) compiler, this may take some time.\n",
      "Calling FFC just-in-time (JIT) compiler, this may take some time.\n",
      "Calling FFC just-in-time (JIT) compiler, this may take some time.\n",
      "Calling FFC just-in-time (JIT) compiler, this may take some time.\n",
      "Calling FFC just-in-time (JIT) compiler, this may take some time.\n",
      "Calling FFC just-in-time (JIT) compiler, this may take some time.\n",
      "Calling FFC just-in-time (JIT) compiler, this may take some time.\n",
      "Calling FFC just-in-time (JIT) compiler, this may take some time.\n",
      "Calling FFC just-in-time (JIT) compiler, this may take some time.\n",
      "Calling FFC just-in-time (JIT) compiler, this may take some time.\n",
      "Calling FFC just-in-time (JIT) compiler, this may take some time.\n",
      "Calling FFC just-in-time (JIT) compiler, this may take some time.\n",
      "Calling FFC just-in-time (JIT) compiler, this may take some time.\n",
      "Calling FFC just-in-time (JIT) compiler, this may take some time.\n",
      "Calling FFC just-in-time (JIT) compiler, this may take some time.\n",
      "Calling FFC just-in-time (JIT) compiler, this may take some time.\n",
      "Calling FFC just-in-time (JIT) compiler, this may take some time.\n",
      "Calling FFC just-in-time (JIT) compiler, this may take some time.\n",
      "Calling FFC just-in-time (JIT) compiler, this may take some time.\n",
      "Calling FFC just-in-time (JIT) compiler, this may take some time.\n",
      "Calling FFC just-in-time (JIT) compiler, this may take some time.\n",
      "Calling FFC just-in-time (JIT) compiler, this may take some time.\n",
      "Calling FFC just-in-time (JIT) compiler, this may take some time.\n",
      "Calling FFC just-in-time (JIT) compiler, this may take some time.\n",
      "Calling FFC just-in-time (JIT) compiler, this may take some time.\n",
      "Calling FFC just-in-time (JIT) compiler, this may take some time.\n",
      "Calling FFC just-in-time (JIT) compiler, this may take some time.\n",
      "Calling FFC just-in-time (JIT) compiler, this may take some time.\n",
      "Calling FFC just-in-time (JIT) compiler, this may take some time.\n",
      "Calling FFC just-in-time (JIT) compiler, this may take some time.\n",
      "Calling FFC just-in-time (JIT) compiler, this may take some time.\n",
      "Calling FFC just-in-time (JIT) compiler, this may take some time.\n",
      "Calling FFC just-in-time (JIT) compiler, this may take some time.\n",
      "Calling FFC just-in-time (JIT) compiler, this may take some time.\n",
      "Calling FFC just-in-time (JIT) compiler, this may take some time.\n",
      "Calling FFC just-in-time (JIT) compiler, this may take some time.\n",
      "Calling FFC just-in-time (JIT) compiler, this may take some time.\n",
      "Calling FFC just-in-time (JIT) compiler, this may take some time.\n",
      "Calling FFC just-in-time (JIT) compiler, this may take some time.\n",
      "Calling FFC just-in-time (JIT) compiler, this may take some time.\n",
      "Calling FFC just-in-time (JIT) compiler, this may take some time.\n",
      "Calling FFC just-in-time (JIT) compiler, this may take some time.\n",
      "Calling FFC just-in-time (JIT) compiler, this may take some time.\n",
      "Calling FFC just-in-time (JIT) compiler, this may take some time.\n",
      "Calling FFC just-in-time (JIT) compiler, this may take some time.\n",
      "Calling FFC just-in-time (JIT) compiler, this may take some time.\n",
      "Calling FFC just-in-time (JIT) compiler, this may take some time.\n",
      "Calling FFC just-in-time (JIT) compiler, this may take some time.\n",
      "Calling FFC just-in-time (JIT) compiler, this may take some time.\n",
      "Calling FFC just-in-time (JIT) compiler, this may take some time.\n",
      "Calling FFC just-in-time (JIT) compiler, this may take some time.\n",
      "Calling FFC just-in-time (JIT) compiler, this may take some time.\n",
      "Calling FFC just-in-time (JIT) compiler, this may take some time.\n",
      "Calling FFC just-in-time (JIT) compiler, this may take some time.\n",
      "Calling FFC just-in-time (JIT) compiler, this may take some time.\n",
      "  WARNING: The number of integration points for each cell will be: 125\n",
      "           Consider using the option 'quadrature_degree' to reduce the number of points\n",
      "Calling FFC just-in-time (JIT) compiler, this may take some time.\n"
     ]
    },
    {
     "data": {
      "text/html": [
       "<table>\n",
       "<thead>\n",
       "<tr><th>Cell         </th><th style=\"text-align: right;\">  degree 1</th><th style=\"text-align: right;\">  degree 2</th><th style=\"text-align: right;\">  degree 3</th><th style=\"text-align: right;\">  degree 4</th></tr>\n",
       "</thead>\n",
       "<tbody>\n",
       "<tr><td>triangle     </td><td style=\"text-align: right;\">  11.7776 </td><td style=\"text-align: right;\">   3.11679</td><td style=\"text-align: right;\">   4.5594 </td><td style=\"text-align: right;\">   3.12331</td></tr>\n",
       "<tr><td>quadrilateral</td><td style=\"text-align: right;\">   8.09536</td><td style=\"text-align: right;\">   3.06008</td><td style=\"text-align: right;\">   3.10017</td><td style=\"text-align: right;\">   3.56173</td></tr>\n",
       "<tr><td>tetrahedron  </td><td style=\"text-align: right;\">  10.3274 </td><td style=\"text-align: right;\">   4.68003</td><td style=\"text-align: right;\">   4.14632</td><td style=\"text-align: right;\">   8.93995</td></tr>\n",
       "<tr><td>hexahedron   </td><td style=\"text-align: right;\">  11.1199 </td><td style=\"text-align: right;\">   6.50958</td><td style=\"text-align: right;\">  12.2102 </td><td style=\"text-align: right;\">  42.6544 </td></tr>\n",
       "</tbody>\n",
       "</table>"
      ],
      "text/plain": [
       "<IPython.core.display.HTML object>"
      ]
     },
     "execution_count": 5,
     "metadata": {},
     "output_type": "execute_result"
    }
   ],
   "source": [
    "tabulate_timing(meshes, degrees, measure_assemble_system)"
   ]
  },
  {
   "cell_type": "markdown",
   "metadata": {},
   "source": [
    "↑ Table 5. Time spent on system assembly (in seconds) for same number of vertices"
   ]
  },
  {
   "cell_type": "code",
   "execution_count": null,
   "metadata": {
    "collapsed": true
   },
   "outputs": [],
   "source": []
  }
 ],
 "metadata": {
  "kernelspec": {
   "display_name": "Python 3",
   "language": "python",
   "name": "python3"
  },
  "language_info": {
   "codemirror_mode": {
    "name": "ipython",
    "version": 3
   },
   "file_extension": ".py",
   "mimetype": "text/x-python",
   "name": "python",
   "nbconvert_exporter": "python",
   "pygments_lexer": "ipython3",
   "version": "3.5.2"
  }
 },
 "nbformat": 4,
 "nbformat_minor": 2
}
